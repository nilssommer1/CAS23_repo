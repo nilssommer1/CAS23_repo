{
 "cells": [
  {
   "cell_type": "markdown",
   "metadata": {
    "id": "NBLpVgZ0PR-7"
   },
   "source": [
    "# Tutorial I: Introduction to TensorFlow 2\n"
   ]
  },
  {
   "cell_type": "markdown",
   "metadata": {
    "id": "pD0SXx8rPR-9"
   },
   "source": [
    "<p>\n",
    "Bern Winter School on Machine Learning, 2022<br>\n",
    "Prepared by Mykhailo Vladymyrov.\n",
    "</p>\n",
    "\n",
    "This work is licensed under a <a href=\"http://creativecommons.org/licenses/by-nc-sa/4.0/\">Creative Commons Attribution-NonCommercial-ShareAlike 4.0 International License</a>."
   ]
  },
  {
   "cell_type": "markdown",
   "metadata": {
    "id": "fL_PNJdWWjqU"
   },
   "source": [
    "In this tutorial session we will get familiar wtih:\n",
    "* How to do optimization in TF and what possibilities does that open to data science\n",
    "* how to apply that to virtually any practical problem\n",
    "   * unordered/tabular data\n",
    "   * data with continuous dimensions\n",
    "   * sequential data"
   ]
  },
  {
   "cell_type": "markdown",
   "metadata": {
    "id": "V56Jh-5RPR--"
   },
   "source": [
    "The main feature of TF is the way we define operations.\n",
    "In regular programming we define a set of functions or methods on the objects.\n",
    "In TF we define a computational graph. Computational graph is a directed graph in which every node corresponds to an operation or variable. Variables can feed their value into operations, and operations can feed their output into other operations.\n",
    "Then, during execution we feed some data and/or parameters as input of the graph, and the graph produces the output.\n",
    "\n",
    "In this course we will not cover TF1 interface, but you're encouraged to check how the same things cab be implemented in TF1 on the github repo.\n",
    "\n",
    "TF2 provides a high-level interface, allowing implementing \n",
    "\n",
    "While it is easy to use, some fundamental conceps can remain a bit obscured, but we will try to clarify that in the course."
   ]
  },
  {
   "cell_type": "markdown",
   "metadata": {
    "id": "LDjO3RU9PR--"
   },
   "source": [
    "## 00. Requirements"
   ]
  },
  {
   "cell_type": "markdown",
   "metadata": {
    "id": "SMz8xcmjPR-_"
   },
   "source": [
    "To run this notebooks you need Tensorflow and numpy installed.\n",
    "As some parts of this tutorial rely on specific functions, it's strongly advised to use the Chrome browser or Chromium derivatives.\n",
    "\n",
    "Basic knowledge of Python can be acquired [here](https://docs.python.org/3/tutorial/) and of Numpy [here](https://docs.scipy.org/doc/numpy/user/quickstart.html)\n",
    "\n",
    "Full documentation on Tensorflow functions is available in the [reference](https://www.tensorflow.org/api_docs/python/). Sometimes [functions' implementation](https://github.com/tensorflow/tensorflow) might help to understand what is happening under the hood.\n"
   ]
  },
  {
   "cell_type": "markdown",
   "metadata": {
    "id": "BRh7fzJ0PR_A"
   },
   "source": [
    "## 0. Cell execution"
   ]
  },
  {
   "cell_type": "markdown",
   "metadata": {
    "id": "9xnxfsAoPR_A"
   },
   "source": [
    "Press ``Ctrl+Enter`` or ``Shift+Enter`` on the next cell to execute the content"
   ]
  },
  {
   "cell_type": "code",
   "execution_count": 2,
   "metadata": {
    "id": "XRhpRwVGPR_B"
   },
   "outputs": [
    {
     "name": "stdout",
     "output_type": "stream",
     "text": [
      "It works\n"
     ]
    }
   ],
   "source": [
    "print('It works')"
   ]
  },
  {
   "cell_type": "code",
   "execution_count": null,
   "metadata": {},
   "outputs": [],
   "source": []
  },
  {
   "cell_type": "markdown",
   "metadata": {
    "id": "-5BkA6IoPR_D"
   },
   "source": [
    "Navigate between cells with arrows. Press `Enter` to edit cell, `Esc` to exit. Press `A` or `B` too create a new cell above or below. In Colab these correspond to `Ctrl+M A` and `Ctrl+M B`"
   ]
  },
  {
   "cell_type": "markdown",
   "metadata": {
    "id": "lh5a_0N3PR_G"
   },
   "source": [
    "## 1. Load necessary libraries"
   ]
  },
  {
   "cell_type": "code",
   "execution_count": 5,
   "metadata": {
    "id": "6ioOWo6zQfZe"
   },
   "outputs": [],
   "source": [
    "colab = True # set to True is using google colab"
   ]
  },
  {
   "cell_type": "code",
   "execution_count": 6,
   "metadata": {
    "id": "gqUkkrFGPpVq"
   },
   "outputs": [
    {
     "name": "stderr",
     "output_type": "stream",
     "text": [
      "UsageError: Line magic function `%tensorflow_version` not found.\n"
     ]
    }
   ],
   "source": [
    "if colab:\n",
    "    %tensorflow_version 2.x"
   ]
  },
  {
   "cell_type": "code",
   "execution_count": null,
   "metadata": {
    "id": "quADyoPVPR_G"
   },
   "outputs": [],
   "source": [
    "import os\n",
    "import sys\n",
    "import tarfile\n",
    "\n",
    "import numpy as np\n",
    "import matplotlib.pyplot as plt\n",
    "\n",
    "import tensorflow as tf\n",
    "\n",
    "%load_ext tensorboard"
   ]
  },
  {
   "cell_type": "markdown",
   "metadata": {
    "id": "EqADCB3D9Rxo"
   },
   "source": [
    "### Download libraries"
   ]
  },
  {
   "cell_type": "code",
   "execution_count": null,
   "metadata": {
    "id": "yMxFBHhV9Rxq"
   },
   "outputs": [],
   "source": [
    "if colab:\n",
    "    path = os.path.abspath('.')+'/material.tgz'\n",
    "    url = 'https://github.com/neworldemancer/BMLWS/raw/main/tut_files/tpub0320.tgz'\n",
    "    p = tf.keras.utils.get_file(path, url)\n",
    "    assert p==path\n",
    "    tar = tarfile.open(path, \"r:gz\")\n",
    "    tar.extractall()\n",
    "    tar.close()"
   ]
  },
  {
   "cell_type": "markdown",
   "metadata": {
    "id": "6nYU1iu0PR_I"
   },
   "source": [
    "## 2. Create our first model"
   ]
  },
  {
   "cell_type": "markdown",
   "metadata": {
    "id": "4Y2sfGvrPR_I"
   },
   "source": [
    "First we need to define the input for the model. We will create `Input`, where during the excecution we will feed in the input values."
   ]
  },
  {
   "cell_type": "code",
   "execution_count": null,
   "metadata": {
    "id": "VK_OYmyQPR_J"
   },
   "outputs": [],
   "source": [
    "input = tf.keras.Input(shape=(), name = 'input', dtype=tf.float32)"
   ]
  },
  {
   "cell_type": "markdown",
   "metadata": {
    "id": "66TlvmFoPR_L"
   },
   "source": [
    "Then we will define two simple operations. In most cases simple Python notation gives the desired result."
   ]
  },
  {
   "cell_type": "code",
   "execution_count": null,
   "metadata": {
    "id": "GsfGjdP2PR_L"
   },
   "outputs": [],
   "source": [
    "out1 = input + 5"
   ]
  },
  {
   "cell_type": "code",
   "execution_count": null,
   "metadata": {
    "id": "NvbNqR-EPR_N"
   },
   "outputs": [],
   "source": [
    "out2 = input * out1"
   ]
  },
  {
   "cell_type": "markdown",
   "metadata": {
    "id": "xIxjV7UYSmG-"
   },
   "source": [
    "This is the our model:"
   ]
  },
  {
   "cell_type": "code",
   "execution_count": null,
   "metadata": {
    "id": "B4VzNGkFABXk"
   },
   "outputs": [],
   "source": [
    "model = tf.keras.Model(inputs=input, outputs=out1)"
   ]
  },
  {
   "cell_type": "code",
   "execution_count": null,
   "metadata": {
    "id": "A11v-Rge4g0I"
   },
   "outputs": [],
   "source": [
    "model.compile()\n",
    "model.summary()"
   ]
  },
  {
   "cell_type": "code",
   "execution_count": null,
   "metadata": {
    "id": "278bH9oy3i7W"
   },
   "outputs": [],
   "source": [
    "tf.keras.utils.plot_model(model)"
   ]
  },
  {
   "cell_type": "markdown",
   "metadata": {
    "id": "UX1iPTIbPR_Q"
   },
   "source": [
    "## 3. Run the model"
   ]
  },
  {
   "cell_type": "code",
   "execution_count": null,
   "metadata": {
    "id": "NTLYuQqnAPtg"
   },
   "outputs": [],
   "source": [
    "out1_res = model(1)\n",
    "print(out1_res)\n",
    "\n",
    "#out1 = input+5 = 1+5 = 6"
   ]
  },
  {
   "cell_type": "markdown",
   "metadata": {
    "id": "_TpPwYaFQwNe"
   },
   "source": [
    "To obtain value of a tensor, we will call `.numpy()` on the tensor object:"
   ]
  },
  {
   "cell_type": "code",
   "execution_count": null,
   "metadata": {
    "id": "li7BxxHLAVbp"
   },
   "outputs": [],
   "source": [
    "out1_val = out1_res.numpy()\n",
    "print(out1_val)"
   ]
  },
  {
   "cell_type": "markdown",
   "metadata": {
    "id": "ONXAcELkQ6sO"
   },
   "source": [
    "Ususally we can just call the predict method:"
   ]
  },
  {
   "cell_type": "code",
   "execution_count": null,
   "metadata": {
    "id": "sL8ne2LMRAkP"
   },
   "outputs": [],
   "source": [
    "out1_val = model.predict([1])\n",
    "print(out1_val)"
   ]
  },
  {
   "cell_type": "markdown",
   "metadata": {
    "id": "Wg-G6z4MRLbu"
   },
   "source": [
    "The result is an array of size one. The interface is designed such that predisctions for multiple inputs can be performed at once:"
   ]
  },
  {
   "cell_type": "code",
   "execution_count": null,
   "metadata": {
    "id": "i3N22iVhRWhG"
   },
   "outputs": [],
   "source": [
    "out1_val = model.predict([1, 2, 4])\n",
    "print(out1_val)"
   ]
  },
  {
   "cell_type": "markdown",
   "metadata": {
    "id": "fMUKiw8HPR_W"
   },
   "source": [
    "Several values can be computed at the same time:"
   ]
  },
  {
   "cell_type": "code",
   "execution_count": null,
   "metadata": {
    "id": "jxnDjJLzARty"
   },
   "outputs": [],
   "source": [
    "model = tf.keras.Model(inputs=input, outputs=[out1, out2])"
   ]
  },
  {
   "cell_type": "code",
   "execution_count": null,
   "metadata": {
    "id": "AiYdynxRPR_V"
   },
   "outputs": [],
   "source": [
    "out1_val, out2_val = model.predict([3])\n",
    "print(out1_val)\n",
    "print(out2_val)\n",
    "\n",
    "#out1 = input+5 = 3+5 = 8\n",
    "#out2 = (input+5)*input = (3+5)*3 = 8*3=24"
   ]
  },
  {
   "cell_type": "markdown",
   "metadata": {
    "id": "7eB2znQCPR_Z"
   },
   "source": [
    "## 4. Tensor operations"
   ]
  },
  {
   "cell_type": "markdown",
   "metadata": {
    "id": "TLY2DDJFPR_Z"
   },
   "source": [
    "For ML tasks we often need to perform operations on high-dimensional data. Theese are represented as tensors in TF. For example we can calculate sum of squared values in an 1D array with 5 elements:"
   ]
  },
  {
   "cell_type": "code",
   "execution_count": null,
   "metadata": {
    "id": "boJP3IcWPR_a"
   },
   "outputs": [],
   "source": [
    "input_arr = tf.keras.Input(name='input_arr', dtype=tf.float32, shape=(5,))\n",
    "squared = input_arr ** 2  # elementwise operation\n",
    "out_sum = tf.reduce_sum(squared)\n",
    "\n",
    "model = tf.keras.Model(input_arr, out_sum)"
   ]
  },
  {
   "cell_type": "code",
   "execution_count": null,
   "metadata": {
    "id": "zZ8oSkcnPR_c",
    "scrolled": false
   },
   "outputs": [],
   "source": [
    "np_arr = np.asarray([[1,2,3,4,5]], dtype=np.float32)\n",
    "\n",
    "sum_val = model.predict(np_arr)\n",
    "print(sum_val)\n",
    "\n",
    "# squared = (1,4,9,16,25)\n",
    "# out_sum = 55"
   ]
  },
  {
   "cell_type": "markdown",
   "metadata": {
    "id": "yZIbWxYZPR_d"
   },
   "source": [
    "Or we can do the same for several 1D arrays at once:"
   ]
  },
  {
   "cell_type": "code",
   "execution_count": null,
   "metadata": {
    "id": "SVuyQ7onPR_e"
   },
   "outputs": [],
   "source": [
    "input_arr = tf.keras.Input(name='input_arr', dtype=tf.float32, shape=(None,)) #None stands for unknows length of the array\n",
    "squared = tf.multiply(input_arr, input_arr)\n",
    "out_sum = tf.reduce_sum(squared, axis=1) # sum only along 1st axis\n",
    "\n",
    "model = tf.keras.Model(input_arr, out_sum)\n",
    "\n",
    "#Sample arrays of different size along first axis. \n",
    "#They all can be fed into the input_arr placeholder since along first axis size is unconstrained\n",
    "\n",
    "np_arr1 = np.asarray([[1,2,3,4,5]], dtype=np.float32)\n",
    "np_arr2 = np.asarray([[1,2,3,4], [2,3,4,5]], dtype=np.float32)\n",
    "np_arr3 = np.asarray([[1,2,3,4,5], [2,3,4,5,6], [25,65,12,12,11], [1,2,3,4,5], [2,3,4,5,6], [25,65,12,12,11]], dtype=np.float32)\n",
    "\n",
    "print(model.predict(np_arr1))\n",
    "print(model.predict(np_arr2))\n",
    "print(model.predict(np_arr3))\n",
    "    \n",
    "    "
   ]
  },
  {
   "cell_type": "markdown",
   "metadata": {
    "id": "yVgzUcxSPR_g"
   },
   "source": [
    "## 5. Exercise 1"
   ]
  },
  {
   "cell_type": "markdown",
   "metadata": {
    "id": "qlEAMfXYPR_g"
   },
   "source": [
    "Hint: You can use question mark to get description of function right from Jupyter notebook:"
   ]
  },
  {
   "cell_type": "code",
   "execution_count": null,
   "metadata": {
    "code_folding": [],
    "id": "VBrRrgILPR_i"
   },
   "outputs": [],
   "source": [
    "tf.reduce_sum?"
   ]
  },
  {
   "cell_type": "markdown",
   "metadata": {
    "id": "FABKnK1APR_k"
   },
   "source": [
    "or ``Shift+Tab`` within the brackets to see function parameters (just ``Space`` for google colab):"
   ]
  },
  {
   "cell_type": "code",
   "execution_count": null,
   "metadata": {
    "id": "0RtSqZFTPR_l"
   },
   "outputs": [],
   "source": [
    "tf.reduce_sum()"
   ]
  },
  {
   "cell_type": "markdown",
   "metadata": {
    "id": "odN9jANSPR_m"
   },
   "source": [
    "Modify the code bellow to calculate mean of array's elements."
   ]
  },
  {
   "cell_type": "code",
   "execution_count": null,
   "metadata": {
    "id": "ENYoskWXPR_m"
   },
   "outputs": [],
   "source": [
    "input_arr = ???(name='input_arr', shape=(None,), dtype=tf.float32) #None stands for unknows length of the array\n",
    "out_mean = ??? # 2.use reduce_mean to claculate mean along specified axes\n",
    "\n",
    "np_arr = np.asarray([[1,2,3,4,5], [2,3,4,5,6], [25,65,12,12,11]], dtype=np.float32)\n",
    "\n",
    "# 3. create model and run the prediction\n",
    "model = ???\n",
    "res = ???\n",
    "print(res)\n",
    "    \n",
    "#4. print model info & graph\n",
    "???"
   ]
  },
  {
   "cell_type": "markdown",
   "metadata": {
    "id": "GbnkrLAHPR_o"
   },
   "source": [
    "## 6. Optimization problem"
   ]
  },
  {
   "cell_type": "markdown",
   "metadata": {
    "id": "A6VTHzpHPR_p"
   },
   "source": [
    "In ML we always try to optimize model parameters to minimize a loss function. TF provides easy interface for solving optimization problems.\n",
    "\n",
    "Let's see how this works. We will use a function $f$, parabolic with respect to the model parameter $t$: $f(x_0, x_1|t) = (x_0*t-x_1)^2$. Here $x_0$ and $x_1$ are given values for which we will try to minimize value of function $f$.\n",
    "\n",
    "We will create a keras layer `F`, a class inherided from `tf.keras.layers.Layer`. It will have just three methods:\n",
    "* `call` - main function, performing the actual computaion on the input\n",
    "* `__init__` - constructer, called upon creation\n",
    "* `build` - called when the model is is created\n",
    "\n",
    "We define `t` as a variable using `add_weight` and initialize it with a constant 0. Variables are by default trainable, *i.e.* their value will be changed during training. \n",
    "\n"
   ]
  },
  {
   "cell_type": "code",
   "execution_count": null,
   "metadata": {
    "id": "roV9dyf7qR-H"
   },
   "outputs": [],
   "source": [
    "class F(tf.keras.layers.Layer):\n",
    "  def __init__(self, **kwargs):\n",
    "    super().__init__(**kwargs)\n",
    "\n",
    "  def build(self, input_shape):\n",
    "    self.t = self.add_weight(initializer=tf.keras.initializers.Constant(0),\n",
    "                             name='t',\n",
    "                             dtype=tf.float32)\n",
    "    super().build(input_shape)\n",
    "\n",
    "  def call(self, x):\n",
    "    x0 = x[..., 0]\n",
    "    x1 = x[..., 1]\n",
    "    d = self.t * x0 - x1\n",
    "    f = d**2\n",
    "\n",
    "    return f"
   ]
  },
  {
   "cell_type": "markdown",
   "metadata": {
    "id": "u0p9t4OBuE6G"
   },
   "source": [
    "For simplicity we will keep $x_0$ and $x_1$ in an array: `x` = [$x_0$, $x_1$]"
   ]
  },
  {
   "cell_type": "code",
   "execution_count": null,
   "metadata": {
    "id": "D-EukogmPR_p"
   },
   "outputs": [],
   "source": [
    "x = tf.keras.layers.Input(name='x', dtype=tf.float32, shape=(2,))\n",
    "\n",
    "f_layer = F()\n",
    "f = f_layer(x)\n",
    "\n",
    "model = tf.keras.Model(inputs=x, outputs=f)"
   ]
  },
  {
   "cell_type": "code",
   "execution_count": null,
   "metadata": {
    "id": "V5sCvajyvEZQ"
   },
   "outputs": [],
   "source": [
    "def loss_f(true_y, y):\n",
    "  return y"
   ]
  },
  {
   "cell_type": "markdown",
   "metadata": {
    "id": "bARGtxfBPR_s"
   },
   "source": [
    "Next we create an optimizer: object that on each iteration adjusts values of all trainable parameters (in our case just `t` to minimize the value of `f`. \n",
    "Here we will use plain steepest gradient descent.\n",
    "\n",
    "We will minimize the value of the models output."
   ]
  },
  {
   "cell_type": "code",
   "execution_count": null,
   "metadata": {
    "id": "zklpTDmqjGVp"
   },
   "outputs": [],
   "source": [
    "optimizer = tf.keras.optimizers.SGD(learning_rate=0.01)\n",
    "model.compile(optimizer=optimizer, loss=loss_f)"
   ]
  },
  {
   "cell_type": "code",
   "execution_count": null,
   "metadata": {
    "id": "1mnG7Gt89x4D"
   },
   "outputs": [],
   "source": [
    "model.summary()"
   ]
  },
  {
   "cell_type": "code",
   "execution_count": null,
   "metadata": {
    "id": "Eh4RREJ74mh4"
   },
   "outputs": [],
   "source": [
    "model.trainable_variables"
   ]
  },
  {
   "cell_type": "code",
   "execution_count": null,
   "metadata": {
    "id": "gUwQ9j-f-2P1"
   },
   "outputs": [],
   "source": [
    "t = model.trainable_variables[0]"
   ]
  },
  {
   "cell_type": "code",
   "execution_count": null,
   "metadata": {
    "id": "e7-H0tMG-28j"
   },
   "outputs": [],
   "source": [
    "print(t)"
   ]
  },
  {
   "cell_type": "markdown",
   "metadata": {
    "id": "3GgXqh-j-4yz"
   },
   "source": [
    "`t` - is a TF tensor. To get actual value of `t` we need to call `.numpy()` on it:"
   ]
  },
  {
   "cell_type": "code",
   "execution_count": null,
   "metadata": {
    "id": "tSMzDhEV-4Az"
   },
   "outputs": [],
   "source": [
    "print(t.numpy())"
   ]
  },
  {
   "cell_type": "code",
   "execution_count": null,
   "metadata": {
    "id": "lw6AsUZUrzRW"
   },
   "outputs": [],
   "source": [
    "model.predict(x=[[1., 3.]])  # (1 * 0 - 3)**2 == 9"
   ]
  },
  {
   "cell_type": "code",
   "execution_count": null,
   "metadata": {
    "id": "s238H1yOPR_u"
   },
   "outputs": [],
   "source": [
    "# values of x1, x2 for which we will minimize f\n",
    "x0_val = 3.\n",
    "x1_val = 9.\n",
    "\n",
    "t_val = 0.\n",
    "\n",
    "# buffers to store intermidiate values of t and f to plot them later.\n",
    "t_sv = []\n",
    "f_sv = []\n",
    "\n",
    "# reset the value of t to zero\n",
    "t.assign(t_val)\n",
    "\n",
    "f_val = model.predict([[x0_val, x1_val]])\n",
    "t_val = t.numpy()\n",
    "    \n",
    "t_sv.append(t_val)\n",
    "f_sv.append(f_val)\n",
    "    \n",
    "# optimization works iteratively, adjusting the value of t on each step\n",
    "for itr in range (30):\n",
    "    model.fit(x=[[x0_val, x1_val]], y=[0], epochs=1)  # run one opdate iteration\n",
    "\n",
    "    f_val = model.predict([[x0_val, x1_val]])\n",
    "    t_val = model.trainable_variables[0].numpy()\n",
    "    #save the current values of t and the function f\n",
    "    t_sv.append(t_val)\n",
    "    f_sv.append(f_val)\n",
    "        \n",
    "\n",
    "\n",
    "#just find the nice range for plotting\n",
    "x0 = x1_val/x0_val\n",
    "xhalf = max(abs(t_sv[0]-x0), 5.)\n",
    "#fill array for parabola\n",
    "t_all = np.arange(x0-xhalf, x0+xhalf, xhalf/50.)\n",
    "f_all = np.asarray([(ti*x0_val-x1_val)*(ti*x0_val-x1_val) for ti in t_all])\n",
    "\n",
    "#draw all\n",
    "_, axs = plt.subplots(1, 3, figsize=(16,10))\n",
    "axs[0].plot(t_all, f_all, 'b', t_sv, f_sv, 'g^')\n",
    "axs[0].set_title('f(t | x1,x2)')\n",
    "axs[0].set_xlabel('t')\n",
    "axs[0].set_ylabel('f(t)')\n",
    "axs[0].legend(('f(t)', 'training iterations'),  loc='upper center')\n",
    "axs[1].plot(f_sv)\n",
    "axs[1].set_title('f(itr)');\n",
    "axs[1].set_ylabel('f(t)')\n",
    "axs[1].set_xlabel('training iteration')\n",
    "axs[2].semilogy(f_sv)\n",
    "axs[2].set_title('f(itr), log sclae');\n",
    "axs[2].set_ylabel('f(t)')\n",
    "axs[2].set_xlabel('training iteration')\n",
    "plt.show()"
   ]
  },
  {
   "cell_type": "markdown",
   "metadata": {
    "id": "jBd26x1bPR_v"
   },
   "source": [
    "## 7. Exercise 2"
   ]
  },
  {
   "cell_type": "markdown",
   "metadata": {
    "id": "jUWLA6PqPR_y"
   },
   "source": [
    "Try to modify ``x0_val`` and ``x1_val`` in the above code, as well as the ``learning_rate`` and ``t`` initialization value, and see how it affects convergence. Get an intuition on simple example, it is very useful!\n",
    "\n",
    "Try to see when \n",
    "1. convergence is too slow \n",
    "2. oscillation near minimum occurs\n",
    "3. divergence\n"
   ]
  }
 ],
 "metadata": {
  "anaconda-cloud": {},
  "colab": {
   "collapsed_sections": [
    "LDjO3RU9PR--",
    "BRh7fzJ0PR_A",
    "lh5a_0N3PR_G",
    "EqADCB3D9Rxo",
    "6nYU1iu0PR_I",
    "UX1iPTIbPR_Q",
    "7eB2znQCPR_Z",
    "yVgzUcxSPR_g",
    "GbnkrLAHPR_o",
    "jBd26x1bPR_v"
   ],
   "name": "Tutorial_I_tf2_introduction.ipynb",
   "provenance": [],
   "toc_visible": true
  },
  "hide_input": false,
  "kernelspec": {
   "display_name": "Python 3 (ipykernel)",
   "language": "python",
   "name": "python3"
  },
  "language_info": {
   "codemirror_mode": {
    "name": "ipython",
    "version": 3
   },
   "file_extension": ".py",
   "mimetype": "text/x-python",
   "name": "python",
   "nbconvert_exporter": "python",
   "pygments_lexer": "ipython3",
   "version": "3.9.12"
  },
  "toc": {
   "base_numbering": 1,
   "nav_menu": {},
   "number_sections": true,
   "sideBar": true,
   "skip_h1_title": false,
   "title_cell": "Table of Contents",
   "title_sidebar": "Contents",
   "toc_cell": false,
   "toc_position": {},
   "toc_section_display": true,
   "toc_window_display": true
  },
  "varInspector": {
   "cols": {
    "lenName": 16,
    "lenType": 16,
    "lenVar": 40
   },
   "kernels_config": {
    "python": {
     "delete_cmd_postfix": "",
     "delete_cmd_prefix": "del ",
     "library": "var_list.py",
     "varRefreshCmd": "print(var_dic_list())"
    },
    "r": {
     "delete_cmd_postfix": ") ",
     "delete_cmd_prefix": "rm(",
     "library": "var_list.r",
     "varRefreshCmd": "cat(var_dic_list()) "
    }
   },
   "types_to_exclude": [
    "module",
    "function",
    "builtin_function_or_method",
    "instance",
    "_Feature"
   ],
   "window_display": true
  }
 },
 "nbformat": 4,
 "nbformat_minor": 1
}
