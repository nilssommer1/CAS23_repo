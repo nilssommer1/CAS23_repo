{
 "cells": [
  {
   "cell_type": "markdown",
   "id": "0e754329",
   "metadata": {
    "run_control": {
     "marked": false
    }
   },
   "source": [
    "# Mental Health in Tech Industry"
   ]
  },
  {
   "cell_type": "markdown",
   "id": "ae879b18",
   "metadata": {},
   "source": [
    "## Preparations"
   ]
  },
  {
   "cell_type": "markdown",
   "id": "bc89e24b",
   "metadata": {},
   "source": [
    "First load the modules:"
   ]
  },
  {
   "cell_type": "code",
   "execution_count": 17,
   "id": "47ebbeec",
   "metadata": {
    "run_control": {
     "marked": false
    }
   },
   "outputs": [],
   "source": [
    "#!pip install seaborn --upgrade scipy\n",
    "import numpy as np\n",
    "import matplotlib.pyplot as plt\n",
    "import pandas as pd\n",
    "import statsmodels.api as sm\n",
    "from scipy import stats\n"
   ]
  },
  {
   "cell_type": "markdown",
   "id": "3b70c6fd",
   "metadata": {},
   "source": [
    "Then the data:"
   ]
  },
  {
   "cell_type": "code",
   "execution_count": 19,
   "id": "451249da",
   "metadata": {},
   "outputs": [],
   "source": [
    "df0 = pd.read_csv('data/Answer.csv')\n",
    "#df0.iloc[:,1:5]\n",
    "df0\n",
    "df_wide = pd.read_excel('data/Answer2.xlsx')\n",
    "#print(df_wide['3'].unique())"
   ]
  },
  {
   "cell_type": "markdown",
   "id": "1e4dc43b",
   "metadata": {},
   "source": [
    "Clean(er) data:"
   ]
  },
  {
   "cell_type": "code",
   "execution_count": 24,
   "id": "219b0833",
   "metadata": {},
   "outputs": [
    {
     "name": "stderr",
     "output_type": "stream",
     "text": [
      "C:\\Users\\ns18v691\\AppData\\Local\\Temp\\ipykernel_23908\\3302930781.py:1: UserWarning: Boolean Series key will be reindexed to match DataFrame index.\n",
      "  df_16_19 = (df_wide[df_wide['50'] == 'United States of America']\n"
     ]
    }
   ],
   "source": [
    "df_16_19 = (df_wide[df_wide['50'] == 'United States of America']\n",
    "            [df_wide['SurveyID'] >= 2016]\n",
    "            [(df_wide['1'] <= 67) & (df_wide['1'] >= 18)]\n",
    "            [['UserID', 'SurveyID', '1', '2', '50',  '6', '33']].\n",
    "            rename(columns = {'1': 'age', \n",
    "                              '2': 'gender', \n",
    "                              '50': 'country', \n",
    "                              '6': 'famHist',\n",
    "                              '33': 'currMentDis'}))\n",
    "\n",
    "df_16_19['gender'] = (df_16_19['gender'].\n",
    "                      replace(['Female or Multi-Gender Femme', \n",
    "                                                 'Other', \n",
    "                                                 'none of your business', \n",
    "                                                 'genderqueer', \n",
    "                                                 'Human' ,\n",
    "                                                 'Genderfluid', \n",
    "                                                 '-1',\n",
    "                                                 'genderqueer woman',\n",
    "                                                 'mtf',\n",
    "                                                 'non-binary',\n",
    "                                                 'Male/genderqueer',\n",
    "                                                 'human',\n",
    "                                                 'Nonbinary',\n",
    "                                                 'Unicorn',\n",
    "                                                 'Genderqueer',\n",
    "                                                 'Genderflux demi-girl',\n",
    "                                                 'AFAB',\n",
    "                                                 'Agender',\n",
    "                                                 'uhhhhhhhhh fem genderqueer?',\n",
    "                                                 'God King of the Valajar',\n",
    "                                                 'Non-binary',\n",
    "                                                 'sometimes',\n",
    "                                                 'Contextual',\n",
    "                                                 'Non binary',\n",
    "                                                 'Genderqueer demigirl',\n",
    "                                                 'nonbinary',\n",
    "                                                 'Female-ish',\n",
    "                                                 'Transfeminine',\n",
    "                                                 'None',\n",
    "                                                 'Ostensibly Male',\n",
    "                                                 'Trans man',\n",
    "                                                 'transgender',\n",
    "                                                 'non binary',\n",
    "                                                 'Female/gender non-binary.',\n",
    "                                                 'Trans woman',\n",
    "                                                 'genderfluid',\n",
    "                                                 'Demiguy',\n",
    "                                                 'Trans female',\n",
    "                                                 'She/her/they/them',\n",
    "                                                 'SWM',\n",
    "                                                 'NB',\n",
    "                                                 'Nonbinary/femme',\n",
    "                                                 'gender non-conforming woman',\n",
    "                                                 'Cishet male', \n",
    "                                                 'agender', \n",
    "                                                 'Questioning', \n",
    "                                                 'I have a penis', \n",
    "                                                 'rr', \n",
    "                                                 'Agender trans woman',\n",
    "                                                 'Trans non-binary/genderfluid',\n",
    "                                                 'Non-binary and gender fluid', 'Fluid'], 'other').\n",
    "                     replace(['Female', 'fm'], 'female').\n",
    "                     replace('Male', 'male'))\n",
    "\n",
    "df_16_19['currMentDis'] = (df_16_19['currMentDis'].\n",
    "                           replace(['Maybe', \n",
    "                                    'Possibly', \n",
    "                                    \"Don't Know\"], 'maybe'))\n",
    "\n",
    "df_16_19['SurveyID'] = (df_16_19['SurveyID'].astype('category'))\n"
   ]
  },
  {
   "cell_type": "markdown",
   "id": "a19c024e",
   "metadata": {},
   "source": [
    "View data"
   ]
  },
  {
   "cell_type": "code",
   "execution_count": 25,
   "id": "f5d9c90b",
   "metadata": {},
   "outputs": [
    {
     "name": "stdout",
     "output_type": "stream",
     "text": [
      "['male' 'female' 'other']\n",
      "male      1203\n",
      "female     592\n",
      "other       72\n",
      "Name: gender, dtype: int64\n",
      "[29 43 30 37 44 28 34 35 52 25 31 26 38 40 41 33 32 45 27 36 46 24 23 39\n",
      " 51 48 55 42 50 21 22 49 20 54 63 47 57 61 19 62 53 58 66 59 56 65 60 67]\n",
      "30    126\n",
      "32     95\n",
      "35     94\n",
      "28     93\n",
      "31     90\n",
      "37     90\n",
      "29     89\n",
      "34     88\n",
      "33     79\n",
      "36     74\n",
      "27     74\n",
      "26     72\n",
      "39     70\n",
      "38     67\n",
      "40     61\n",
      "42     55\n",
      "25     55\n",
      "24     49\n",
      "45     41\n",
      "41     40\n",
      "44     39\n",
      "23     33\n",
      "43     32\n",
      "22     30\n",
      "47     26\n",
      "46     25\n",
      "49     22\n",
      "50     16\n",
      "48     15\n",
      "55     15\n",
      "51     14\n",
      "21     14\n",
      "52     13\n",
      "53     11\n",
      "54      9\n",
      "57      8\n",
      "56      7\n",
      "63      5\n",
      "61      5\n",
      "19      5\n",
      "20      5\n",
      "59      4\n",
      "58      3\n",
      "60      2\n",
      "62      2\n",
      "66      2\n",
      "67      2\n",
      "65      1\n",
      "Name: age, dtype: int64\n",
      "[2016, 2017, 2018, 2019]\n",
      "Categories (4, int64): [2016, 2017, 2018, 2019]\n",
      "2016    847\n",
      "2017    503\n",
      "2018    314\n",
      "2019    203\n",
      "Name: SurveyID, dtype: int64\n",
      "['United States of America']\n",
      "United States of America    1867\n",
      "Name: country, dtype: int64\n",
      "['Yes' 'No' \"I don't know\"]\n",
      "Yes             996\n",
      "No              474\n",
      "I don't know    397\n",
      "Name: famHist, dtype: int64\n",
      "['Yes' 'No' 'maybe']\n",
      "Yes      912\n",
      "No       520\n",
      "maybe    435\n",
      "Name: currMentDis, dtype: int64\n"
     ]
    }
   ],
   "source": [
    "print(df_16_19['gender'].unique())\n",
    "print(df_16_19['gender'].value_counts())\n",
    "\n",
    "print(df_16_19['age'].unique())\n",
    "print(df_16_19['age'].value_counts())\n",
    "\n",
    "print(df_16_19['SurveyID'].unique())\n",
    "print(df_16_19['SurveyID'].value_counts())\n",
    "\n",
    "print(df_16_19['country'].unique())\n",
    "print(df_16_19['country'].value_counts())\n",
    "\n",
    "print(df_16_19['famHist'].unique())\n",
    "print(df_16_19['famHist'].value_counts())\n",
    "\n",
    "print(df_16_19['currMentDis'].unique())\n",
    "print(df_16_19['currMentDis'].value_counts())"
   ]
  },
  {
   "cell_type": "code",
   "execution_count": 26,
   "id": "1556f434",
   "metadata": {},
   "outputs": [
    {
     "data": {
      "text/html": [
       "<div>\n",
       "<style scoped>\n",
       "    .dataframe tbody tr th:only-of-type {\n",
       "        vertical-align: middle;\n",
       "    }\n",
       "\n",
       "    .dataframe tbody tr th {\n",
       "        vertical-align: top;\n",
       "    }\n",
       "\n",
       "    .dataframe thead th {\n",
       "        text-align: right;\n",
       "    }\n",
       "</style>\n",
       "<table border=\"1\" class=\"dataframe\">\n",
       "  <thead>\n",
       "    <tr style=\"text-align: right;\">\n",
       "      <th></th>\n",
       "      <th>UserID</th>\n",
       "      <th>SurveyID</th>\n",
       "      <th>age</th>\n",
       "      <th>gender</th>\n",
       "      <th>country</th>\n",
       "      <th>famHist</th>\n",
       "      <th>currMentDis</th>\n",
       "    </tr>\n",
       "  </thead>\n",
       "  <tbody>\n",
       "    <tr>\n",
       "      <th>1261</th>\n",
       "      <td>1262</td>\n",
       "      <td>2016</td>\n",
       "      <td>29</td>\n",
       "      <td>male</td>\n",
       "      <td>United States of America</td>\n",
       "      <td>Yes</td>\n",
       "      <td>Yes</td>\n",
       "    </tr>\n",
       "    <tr>\n",
       "      <th>1264</th>\n",
       "      <td>1265</td>\n",
       "      <td>2016</td>\n",
       "      <td>43</td>\n",
       "      <td>female</td>\n",
       "      <td>United States of America</td>\n",
       "      <td>Yes</td>\n",
       "      <td>Yes</td>\n",
       "    </tr>\n",
       "    <tr>\n",
       "      <th>1266</th>\n",
       "      <td>1267</td>\n",
       "      <td>2016</td>\n",
       "      <td>30</td>\n",
       "      <td>male</td>\n",
       "      <td>United States of America</td>\n",
       "      <td>No</td>\n",
       "      <td>No</td>\n",
       "    </tr>\n",
       "    <tr>\n",
       "      <th>1267</th>\n",
       "      <td>1268</td>\n",
       "      <td>2016</td>\n",
       "      <td>37</td>\n",
       "      <td>female</td>\n",
       "      <td>United States of America</td>\n",
       "      <td>Yes</td>\n",
       "      <td>Yes</td>\n",
       "    </tr>\n",
       "    <tr>\n",
       "      <th>1268</th>\n",
       "      <td>1269</td>\n",
       "      <td>2016</td>\n",
       "      <td>44</td>\n",
       "      <td>female</td>\n",
       "      <td>United States of America</td>\n",
       "      <td>Yes</td>\n",
       "      <td>Yes</td>\n",
       "    </tr>\n",
       "    <tr>\n",
       "      <th>...</th>\n",
       "      <td>...</td>\n",
       "      <td>...</td>\n",
       "      <td>...</td>\n",
       "      <td>...</td>\n",
       "      <td>...</td>\n",
       "      <td>...</td>\n",
       "      <td>...</td>\n",
       "    </tr>\n",
       "    <tr>\n",
       "      <th>4209</th>\n",
       "      <td>4210</td>\n",
       "      <td>2019</td>\n",
       "      <td>27</td>\n",
       "      <td>male</td>\n",
       "      <td>United States of America</td>\n",
       "      <td>I don't know</td>\n",
       "      <td>Yes</td>\n",
       "    </tr>\n",
       "    <tr>\n",
       "      <th>4210</th>\n",
       "      <td>4211</td>\n",
       "      <td>2019</td>\n",
       "      <td>42</td>\n",
       "      <td>female</td>\n",
       "      <td>United States of America</td>\n",
       "      <td>Yes</td>\n",
       "      <td>Yes</td>\n",
       "    </tr>\n",
       "    <tr>\n",
       "      <th>4212</th>\n",
       "      <td>4213</td>\n",
       "      <td>2019</td>\n",
       "      <td>31</td>\n",
       "      <td>female</td>\n",
       "      <td>United States of America</td>\n",
       "      <td>No</td>\n",
       "      <td>No</td>\n",
       "    </tr>\n",
       "    <tr>\n",
       "      <th>4214</th>\n",
       "      <td>4215</td>\n",
       "      <td>2019</td>\n",
       "      <td>48</td>\n",
       "      <td>male</td>\n",
       "      <td>United States of America</td>\n",
       "      <td>No</td>\n",
       "      <td>No</td>\n",
       "    </tr>\n",
       "    <tr>\n",
       "      <th>4217</th>\n",
       "      <td>4218</td>\n",
       "      <td>2019</td>\n",
       "      <td>24</td>\n",
       "      <td>female</td>\n",
       "      <td>United States of America</td>\n",
       "      <td>Yes</td>\n",
       "      <td>Yes</td>\n",
       "    </tr>\n",
       "  </tbody>\n",
       "</table>\n",
       "<p>1867 rows × 7 columns</p>\n",
       "</div>"
      ],
      "text/plain": [
       "      UserID SurveyID  age  gender                   country       famHist  \\\n",
       "1261    1262     2016   29    male  United States of America           Yes   \n",
       "1264    1265     2016   43  female  United States of America           Yes   \n",
       "1266    1267     2016   30    male  United States of America            No   \n",
       "1267    1268     2016   37  female  United States of America           Yes   \n",
       "1268    1269     2016   44  female  United States of America           Yes   \n",
       "...      ...      ...  ...     ...                       ...           ...   \n",
       "4209    4210     2019   27    male  United States of America  I don't know   \n",
       "4210    4211     2019   42  female  United States of America           Yes   \n",
       "4212    4213     2019   31  female  United States of America            No   \n",
       "4214    4215     2019   48    male  United States of America            No   \n",
       "4217    4218     2019   24  female  United States of America           Yes   \n",
       "\n",
       "     currMentDis  \n",
       "1261         Yes  \n",
       "1264         Yes  \n",
       "1266          No  \n",
       "1267         Yes  \n",
       "1268         Yes  \n",
       "...          ...  \n",
       "4209         Yes  \n",
       "4210         Yes  \n",
       "4212          No  \n",
       "4214          No  \n",
       "4217         Yes  \n",
       "\n",
       "[1867 rows x 7 columns]"
      ]
     },
     "execution_count": 26,
     "metadata": {},
     "output_type": "execute_result"
    }
   ],
   "source": [
    "df_16_19         "
   ]
  },
  {
   "cell_type": "markdown",
   "id": "9b9b5f13",
   "metadata": {},
   "source": [
    "## Change over the years"
   ]
  },
  {
   "cell_type": "markdown",
   "id": "554c56a3",
   "metadata": {},
   "source": [
    "Data"
   ]
  },
  {
   "cell_type": "code",
   "execution_count": 27,
   "id": "0f8f22a4",
   "metadata": {},
   "outputs": [
    {
     "data": {
      "text/html": [
       "<div>\n",
       "<style scoped>\n",
       "    .dataframe tbody tr th:only-of-type {\n",
       "        vertical-align: middle;\n",
       "    }\n",
       "\n",
       "    .dataframe tbody tr th {\n",
       "        vertical-align: top;\n",
       "    }\n",
       "\n",
       "    .dataframe thead th {\n",
       "        text-align: right;\n",
       "    }\n",
       "</style>\n",
       "<table border=\"1\" class=\"dataframe\">\n",
       "  <thead>\n",
       "    <tr style=\"text-align: right;\">\n",
       "      <th>currMentDis</th>\n",
       "      <th>No</th>\n",
       "      <th>Yes</th>\n",
       "    </tr>\n",
       "    <tr>\n",
       "      <th>SurveyID</th>\n",
       "      <th></th>\n",
       "      <th></th>\n",
       "    </tr>\n",
       "  </thead>\n",
       "  <tbody>\n",
       "    <tr>\n",
       "      <th>2016</th>\n",
       "      <td>270</td>\n",
       "      <td>396</td>\n",
       "    </tr>\n",
       "    <tr>\n",
       "      <th>2017</th>\n",
       "      <td>127</td>\n",
       "      <td>248</td>\n",
       "    </tr>\n",
       "    <tr>\n",
       "      <th>2018</th>\n",
       "      <td>74</td>\n",
       "      <td>162</td>\n",
       "    </tr>\n",
       "    <tr>\n",
       "      <th>2019</th>\n",
       "      <td>49</td>\n",
       "      <td>106</td>\n",
       "    </tr>\n",
       "  </tbody>\n",
       "</table>\n",
       "</div>"
      ],
      "text/plain": [
       "currMentDis   No  Yes\n",
       "SurveyID             \n",
       "2016         270  396\n",
       "2017         127  248\n",
       "2018          74  162\n",
       "2019          49  106"
      ]
     },
     "execution_count": 27,
     "metadata": {},
     "output_type": "execute_result"
    }
   ],
   "source": [
    "df_chi2 = df_16_19[df_16_19['currMentDis'] != 'maybe'] #--> possibly\n",
    "\n",
    "data_crosstab = pd.crosstab(df_chi2['SurveyID'],\n",
    "                            df_chi2['currMentDis'])\n",
    "data_crosstab"
   ]
  },
  {
   "cell_type": "markdown",
   "id": "890652a8",
   "metadata": {},
   "source": [
    "Chi-2 Test: significant"
   ]
  },
  {
   "cell_type": "code",
   "execution_count": 28,
   "id": "60d428ed",
   "metadata": {},
   "outputs": [
    {
     "data": {
      "text/plain": [
       "(10.105337459241678,\n",
       " 0.017691626984962888,\n",
       " 3,\n",
       " array([[241.84357542, 424.15642458],\n",
       "        [136.17318436, 238.82681564],\n",
       "        [ 85.69832402, 150.30167598],\n",
       "        [ 56.2849162 ,  98.7150838 ]]))"
      ]
     },
     "execution_count": 28,
     "metadata": {},
     "output_type": "execute_result"
    }
   ],
   "source": [
    "stats.chi2_contingency(data_crosstab)"
   ]
  },
  {
   "cell_type": "markdown",
   "id": "97bfd16c",
   "metadata": {},
   "source": [
    "Post-hoc Tests (also Chi-2!): 2016 has relatively less People with mental illness"
   ]
  },
  {
   "cell_type": "code",
   "execution_count": 29,
   "id": "09f5aa13",
   "metadata": {},
   "outputs": [
    {
     "name": "stdout",
     "output_type": "stream",
     "text": [
      "Significance results:\n",
      "Chi2 result for pair (2016, 2017): 4.5293495880848855, p-value: 0.033318278453150586\n",
      "Chi2 result for pair (2016, 2018): 6.230478628589807, p-value: 0.012556979133733867\n",
      "Chi2 result for pair (2016, 2019): 4.218205773109184, p-value: 0.03999242865408616\n",
      "Chi2 result for pair (2017, 2018): 0.4136243851707432, p-value: 0.520135619384696\n",
      "Chi2 result for pair (2017, 2019): 0.2511536910935489, p-value: 0.6162638971277313\n",
      "Chi2 result for pair (2018, 2019): 0.002865159858603458, p-value: 0.9573118687788436\n"
     ]
    }
   ],
   "source": [
    "from itertools import combinations\n",
    "all_combinations = list(combinations(data_crosstab.index, 2))\n",
    "print(\"Significance results:\")\n",
    "for comb in all_combinations:\n",
    "    # subset df into a dataframe containing only the pair \"comb\"\n",
    "    new_df = data_crosstab[(data_crosstab.index == comb[0]) | (data_crosstab.index == comb[1])]\n",
    "    # running chi2 test\n",
    "    chi2, p, dof, ex = stats.chi2_contingency(new_df, correction=False)\n",
    "    print(f\"Chi2 result for pair {comb}: {chi2}, p-value: {p}\")"
   ]
  },
  {
   "cell_type": "code",
   "execution_count": 30,
   "id": "aadc1d85",
   "metadata": {},
   "outputs": [
    {
     "data": {
      "text/plain": [
       "[0.033318278453150586,\n",
       " 0.012556979133733867,\n",
       " 0.03999242865408616,\n",
       " 0.520135619384696,\n",
       " 0.6162638971277313,\n",
       " 0.9573118687788436]"
      ]
     },
     "execution_count": 30,
     "metadata": {},
     "output_type": "execute_result"
    }
   ],
   "source": [
    "all_combinations = list(combinations(data_crosstab.index, 2))\n",
    "p_vals = []\n",
    "for comb in all_combinations:\n",
    "    # subset df into a dataframe containing only the pair \"comb\"\n",
    "    new_df = data_crosstab[(data_crosstab.index == comb[0]) | (data_crosstab.index == comb[1])]\n",
    "    # running chi2 test\n",
    "    chi2, p, dof, ex = stats.chi2_contingency(new_df, correction=False)\n",
    "    p_vals.append(p)\n",
    "    \n",
    "p_vals"
   ]
  },
  {
   "cell_type": "markdown",
   "id": "0141c52b",
   "metadata": {},
   "source": [
    "Correction for multiple Comparisons: Post-hoc tests not significant anymore"
   ]
  },
  {
   "cell_type": "code",
   "execution_count": 31,
   "id": "cce0cf71",
   "metadata": {},
   "outputs": [
    {
     "data": {
      "text/plain": [
       "(array([False, False, False, False, False, False]),\n",
       " array([0.16659139, 0.07534187, 0.16659139, 1.        , 1.        ,\n",
       "        1.        ]))"
      ]
     },
     "execution_count": 31,
     "metadata": {},
     "output_type": "execute_result"
    }
   ],
   "source": [
    "from statsmodels.sandbox.stats.multicomp import multipletests\n",
    "\n",
    "multipletests(p_vals, method='h')[:2]"
   ]
  },
  {
   "cell_type": "markdown",
   "id": "1b765766",
   "metadata": {},
   "source": [
    "## Logistic Regression"
   ]
  },
  {
   "cell_type": "markdown",
   "id": "358d8909",
   "metadata": {},
   "source": [
    "Packages:"
   ]
  },
  {
   "cell_type": "code",
   "execution_count": 32,
   "id": "3dde83db",
   "metadata": {},
   "outputs": [],
   "source": [
    "from sklearn.linear_model import LogisticRegression\n",
    "from sklearn.metrics import classification_report, confusion_matrix\n",
    "import statsmodels.api as sm"
   ]
  },
  {
   "cell_type": "markdown",
   "id": "b8ca7f08",
   "metadata": {},
   "source": [
    "Data: no \"other\" / \"maybe\" categories"
   ]
  },
  {
   "cell_type": "code",
   "execution_count": 33,
   "id": "4976b549",
   "metadata": {},
   "outputs": [],
   "source": [
    "df_logReg = (df_16_19[(df_16_19['currMentDis'] != 'maybe') & (df_16_19['gender'] != 'other') & (df_16_19['famHist'] != \"I don't know\")])\n",
    "\n",
    "\n",
    "df_logReg = df_logReg.replace(['male', 'female', 'Yes', 'No'], [0, 1, 1, 0])\n",
    "df_logReg\n",
    "\n",
    "y_data = df_logReg['currMentDis']\n",
    "\n",
    "x_data = df_logReg[['famHist', 'age', 'gender']]"
   ]
  },
  {
   "cell_type": "markdown",
   "id": "92a737c5",
   "metadata": {},
   "source": [
    "Log Regression:\n",
    "All predictors significant --> interpretation??"
   ]
  },
  {
   "cell_type": "code",
   "execution_count": 34,
   "id": "a0ef7012",
   "metadata": {},
   "outputs": [
    {
     "name": "stdout",
     "output_type": "stream",
     "text": [
      "Optimization terminated successfully.\n",
      "         Current function value: 0.525085\n",
      "         Iterations 5\n",
      "                           Logit Regression Results                           \n",
      "==============================================================================\n",
      "Dep. Variable:            currMentDis   No. Observations:                 1131\n",
      "Model:                          Logit   Df Residuals:                     1128\n",
      "Method:                           MLE   Df Model:                            2\n",
      "Date:                Mon, 10 Oct 2022   Pseudo R-squ.:                  0.2089\n",
      "Time:                        14:41:16   Log-Likelihood:                -593.87\n",
      "converged:                       True   LL-Null:                       -750.67\n",
      "Covariance Type:            nonrobust   LLR p-value:                 7.975e-69\n",
      "==============================================================================\n",
      "                 coef    std err          z      P>|z|      [0.025      0.975]\n",
      "------------------------------------------------------------------------------\n",
      "famHist        2.2040      0.144     15.297      0.000       1.922       2.486\n",
      "age           -0.0284      0.003     -8.912      0.000      -0.035      -0.022\n",
      "gender         0.4706      0.154      3.050      0.002       0.168       0.773\n",
      "==============================================================================\n"
     ]
    }
   ],
   "source": [
    "log_reg = sm.Logit(y_data, x_data).fit()\n",
    "print(log_reg.summary())"
   ]
  },
  {
   "cell_type": "code",
   "execution_count": 39,
   "id": "904f653d",
   "metadata": {},
   "outputs": [
    {
     "name": "stdout",
     "output_type": "stream",
     "text": [
      "9.061185849903008\n",
      "0.9719994892352246\n",
      "1.600954477789854\n"
     ]
    }
   ],
   "source": [
    "import math\n",
    "print(math.exp(2.2040))\n",
    "print(math.exp(-0.0284))\n",
    "print(math.exp(0.4706))\n"
   ]
  },
  {
   "cell_type": "code",
   "execution_count": 41,
   "id": "a98064ff",
   "metadata": {},
   "outputs": [
    {
     "data": {
      "text/plain": [
       "0.2640626975097965"
      ]
     },
     "execution_count": 41,
     "metadata": {},
     "output_type": "execute_result"
    }
   ],
   "source": [
    "f2 = 0.2089 / (1-0.2089)\n",
    "f2"
   ]
  },
  {
   "cell_type": "markdown",
   "id": "f3fff82b",
   "metadata": {},
   "source": [
    "Alle 3 Prädiktoren signifikant\n",
    "Interpretation?"
   ]
  },
  {
   "cell_type": "markdown",
   "id": "fcc73d3d",
   "metadata": {},
   "source": [
    "Multicollinearity (correlations)"
   ]
  },
  {
   "cell_type": "code",
   "execution_count": 37,
   "id": "023aca95",
   "metadata": {},
   "outputs": [
    {
     "data": {
      "text/html": [
       "<div>\n",
       "<style scoped>\n",
       "    .dataframe tbody tr th:only-of-type {\n",
       "        vertical-align: middle;\n",
       "    }\n",
       "\n",
       "    .dataframe tbody tr th {\n",
       "        vertical-align: top;\n",
       "    }\n",
       "\n",
       "    .dataframe thead th {\n",
       "        text-align: right;\n",
       "    }\n",
       "</style>\n",
       "<table border=\"1\" class=\"dataframe\">\n",
       "  <thead>\n",
       "    <tr style=\"text-align: right;\">\n",
       "      <th></th>\n",
       "      <th>UserID</th>\n",
       "      <th>age</th>\n",
       "      <th>gender</th>\n",
       "      <th>famHist</th>\n",
       "      <th>currMentDis</th>\n",
       "    </tr>\n",
       "  </thead>\n",
       "  <tbody>\n",
       "    <tr>\n",
       "      <th>UserID</th>\n",
       "      <td>1.000000</td>\n",
       "      <td>0.060312</td>\n",
       "      <td>0.056832</td>\n",
       "      <td>0.056019</td>\n",
       "      <td>0.064570</td>\n",
       "    </tr>\n",
       "    <tr>\n",
       "      <th>age</th>\n",
       "      <td>0.060312</td>\n",
       "      <td>1.000000</td>\n",
       "      <td>-0.038227</td>\n",
       "      <td>-0.082470</td>\n",
       "      <td>-0.054854</td>\n",
       "    </tr>\n",
       "    <tr>\n",
       "      <th>gender</th>\n",
       "      <td>0.056832</td>\n",
       "      <td>-0.038227</td>\n",
       "      <td>1.000000</td>\n",
       "      <td>0.197326</td>\n",
       "      <td>0.188383</td>\n",
       "    </tr>\n",
       "    <tr>\n",
       "      <th>famHist</th>\n",
       "      <td>0.056019</td>\n",
       "      <td>-0.082470</td>\n",
       "      <td>0.197326</td>\n",
       "      <td>1.000000</td>\n",
       "      <td>0.521609</td>\n",
       "    </tr>\n",
       "    <tr>\n",
       "      <th>currMentDis</th>\n",
       "      <td>0.064570</td>\n",
       "      <td>-0.054854</td>\n",
       "      <td>0.188383</td>\n",
       "      <td>0.521609</td>\n",
       "      <td>1.000000</td>\n",
       "    </tr>\n",
       "  </tbody>\n",
       "</table>\n",
       "</div>"
      ],
      "text/plain": [
       "               UserID       age    gender   famHist  currMentDis\n",
       "UserID       1.000000  0.060312  0.056832  0.056019     0.064570\n",
       "age          0.060312  1.000000 -0.038227 -0.082470    -0.054854\n",
       "gender       0.056832 -0.038227  1.000000  0.197326     0.188383\n",
       "famHist      0.056019 -0.082470  0.197326  1.000000     0.521609\n",
       "currMentDis  0.064570 -0.054854  0.188383  0.521609     1.000000"
      ]
     },
     "execution_count": 37,
     "metadata": {},
     "output_type": "execute_result"
    }
   ],
   "source": [
    "df_logReg.corr()"
   ]
  },
  {
   "cell_type": "markdown",
   "id": "a3395d08",
   "metadata": {},
   "source": [
    "Linearity test for age"
   ]
  },
  {
   "cell_type": "code",
   "execution_count": 38,
   "id": "3e0e720e",
   "metadata": {},
   "outputs": [
    {
     "name": "stdout",
     "output_type": "stream",
     "text": [
      "      UserID SurveyID  age  gender                   country  famHist  \\\n",
      "1261    1262     2016   29       0  United States of America        1   \n",
      "1264    1265     2016   43       1  United States of America        1   \n",
      "1266    1267     2016   30       0  United States of America        0   \n",
      "1267    1268     2016   37       1  United States of America        1   \n",
      "1268    1269     2016   44       1  United States of America        1   \n",
      "...      ...      ...  ...     ...                       ...      ...   \n",
      "4202    4203     2019   55       0  United States of America        1   \n",
      "4210    4211     2019   42       1  United States of America        1   \n",
      "4212    4213     2019   31       1  United States of America        0   \n",
      "4214    4215     2019   48       0  United States of America        0   \n",
      "4217    4218     2019   24       1  United States of America        1   \n",
      "\n",
      "      currMentDis  age:log_age  \n",
      "1261            1    97.651579  \n",
      "1264            1   161.731605  \n",
      "1266            0   102.035921  \n",
      "1267            1   133.603963  \n",
      "1268            1   166.504344  \n",
      "...           ...          ...  \n",
      "4202            0   220.403325  \n",
      "4210            1   156.982124  \n",
      "4212            0   106.453603  \n",
      "4214            0   185.817649  \n",
      "4217            1    76.273292  \n",
      "\n",
      "[1131 rows x 8 columns]\n"
     ]
    }
   ],
   "source": [
    "df_logReg['age:log_age'] = df_logReg['age'].apply(lambda x: x * np.log(x))\n",
    "print(df_logReg)"
   ]
  },
  {
   "cell_type": "code",
   "execution_count": 21,
   "id": "62f80f40",
   "metadata": {},
   "outputs": [
    {
     "name": "stdout",
     "output_type": "stream",
     "text": [
      "Optimization terminated successfully.\n",
      "         Current function value: 0.661346\n",
      "         Iterations 4\n",
      "                           Logit Regression Results                           \n",
      "==============================================================================\n",
      "Dep. Variable:            currMentDis   No. Observations:                 1119\n",
      "Model:                          Logit   Df Residuals:                     1117\n",
      "Method:                           MLE   Df Model:                            1\n",
      "Date:                Sun, 09 Oct 2022   Pseudo R-squ.:                0.003289\n",
      "Time:                        10:53:18   Log-Likelihood:                -740.05\n",
      "converged:                       True   LL-Null:                       -742.49\n",
      "Covariance Type:            nonrobust   LLR p-value:                   0.02711\n",
      "===============================================================================\n",
      "                  coef    std err          z      P>|z|      [0.025      0.975]\n",
      "-------------------------------------------------------------------------------\n",
      "age             0.1155      0.025      4.536      0.000       0.066       0.165\n",
      "age:log_age    -0.0282      0.007     -4.068      0.000      -0.042      -0.015\n",
      "===============================================================================\n"
     ]
    }
   ],
   "source": [
    "y_lt = df_logReg['currMentDis']\n",
    "x_lt = df_logReg[['age', 'age:log_age']]\n",
    "\n",
    "log_reg_lt = sm.Logit(y_lt, x_lt).fit()\n",
    "print(log_reg_lt.summary())"
   ]
  },
  {
   "cell_type": "markdown",
   "id": "3f37f541",
   "metadata": {},
   "source": [
    "## test plots"
   ]
  },
  {
   "cell_type": "code",
   "execution_count": 10,
   "id": "8166158d",
   "metadata": {},
   "outputs": [
    {
     "data": {
      "image/png": "[encoded data removed]",
      "text/plain": [
       "<Figure size 432x288 with 1 Axes>"
      ]
     },
     "metadata": {
      "needs_background": "light"
     },
     "output_type": "display_data"
    },
    {
     "data": {
      "image/png": "[encoded data removed]",
      "text/plain": [
       "<Figure size 432x288 with 1 Axes>"
      ]
     },
     "metadata": {
      "needs_background": "light"
     },
     "output_type": "display_data"
    }
   ],
   "source": [
    "import statsmodels.api as sm\n",
    "fig=sm.qqplot(df_2019['impPhyHealth'], line='s' )\n",
    "sm.qqplot(df_2019['impMentHealth'], line='s')\n",
    "plt.show()"
   ]
  },
  {
   "cell_type": "code",
   "execution_count": 11,
   "id": "1e5116c8",
   "metadata": {},
   "outputs": [
    {
     "data": {
      "image/png": "[encoded data removed]",
      "text/plain": [
       "<Figure size 432x288 with 1 Axes>"
      ]
     },
     "metadata": {
      "needs_background": "light"
     },
     "output_type": "display_data"
    }
   ],
   "source": [
    "plt.subplot(1,1,1)\n",
    "plt.scatter(df_2019['currMentDis'],df_2019['impMentHealth'],c='b', alpha = 1/5)\n",
    "#plt.scatter(df_ref_vir['plength'],df_ref_vir['pwidth'],c='g',label='Virginica')\n",
    "#plt.scatter(df_ref_ver['plength'],df_ref_ver['pwidth'],c='r',label='Versicolor')\n",
    "#plt.scatter(df_farm['plength'],df_farm['pwidth'],c='purple',label='Farmer')\n",
    "plt.xlabel('Current mental health disorder')\n",
    "plt.ylabel('Importance of mental health')\n",
    "#plt.legend()\n",
    "plt.show()"
   ]
  }
 ],
 "metadata": {
  "hide_input": false,
  "kernelspec": {
   "display_name": "Python 3 (ipykernel)",
   "language": "python",
   "name": "python3"
  },
  "language_info": {
   "codemirror_mode": {
    "name": "ipython",
    "version": 3
   },
   "file_extension": ".py",
   "mimetype": "text/x-python",
   "name": "python",
   "nbconvert_exporter": "python",
   "pygments_lexer": "ipython3",
   "version": "3.9.12"
  },
  "toc": {
   "base_numbering": 1,
   "nav_menu": {
    "height": "12px",
    "width": "160px"
   },
   "number_sections": true,
   "sideBar": true,
   "skip_h1_title": false,
   "title_cell": "Table of Contents",
   "title_sidebar": "Contents",
   "toc_cell": false,
   "toc_position": {},
   "toc_section_display": true,
   "toc_window_display": true
  },
  "varInspector": {
   "cols": {
    "lenName": 16,
    "lenType": 16,
    "lenVar": 40
   },
   "kernels_config": {
    "python": {
     "delete_cmd_postfix": "",
     "delete_cmd_prefix": "del ",
     "library": "var_list.py",
     "varRefreshCmd": "print(var_dic_list())"
    },
    "r": {
     "delete_cmd_postfix": ") ",
     "delete_cmd_prefix": "rm(",
     "library": "var_list.r",
     "varRefreshCmd": "cat(var_dic_list()) "
    }
   },
   "position": {
    "height": "411.844px",
    "left": "1552px",
    "right": "20px",
    "top": "117px",
    "width": "346px"
   },
   "types_to_exclude": [
    "module",
    "function",
    "builtin_function_or_method",
    "instance",
    "_Feature"
   ],
   "window_display": true
  }
 },
 "nbformat": 4,
 "nbformat_minor": 5
}
