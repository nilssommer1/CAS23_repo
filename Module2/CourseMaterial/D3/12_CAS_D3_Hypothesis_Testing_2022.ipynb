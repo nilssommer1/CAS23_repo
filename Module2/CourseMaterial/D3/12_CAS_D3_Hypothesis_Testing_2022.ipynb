{
 "cells": [
  {
   "cell_type": "markdown",
   "metadata": {
    "id": "ASHl3RaZECkV"
   },
   "source": [
    "Notebook 4, Module 2, Statistical Inference for Data Science, CAS Applied Data Science, 2021-09-02, A. Mühlemann, University of Bern.\n",
    "\n",
    "*This notebook is based on last year's notebook by S. Haug and G. Conti.*"
   ]
  },
  {
   "cell_type": "markdown",
   "metadata": {
    "id": "JUeyQayYECkY"
   },
   "source": [
    "## 4. Hypothesis Testing\n",
    "\n",
    "Practice various tests with the Python scipy stats module.\n",
    "\n",
    "**Average expected study time :** 3x45 min (depending on your background)\n",
    "\n",
    "**Learning outcomes :**\n",
    "\n",
    "- Know the hypothesis testing vocabulary\n",
    "- Can check normality based on Q-Q-Plots\n",
    "- Can perform normality tests of samples (Agostino-Pearson test, Shapiro-Wilk)\n",
    "- Can perform t-Test on a single sample (testing against a given mean, gaussian)\n",
    "- Can perform a Wilcoxon on a single sample (testing against a given median, not gaussian, only symmetric assumption)\n",
    "- Can comparing two groups of data, e.g. treated and control, know which tests are suited for which cases\n",
    "- Can perform some ANOVA tests\n",
    "\n",
    "**Bonus skills**\n",
    "- More Python tricks\n",
    "- Get to know the Python stats module better: https://docs.scipy.org/doc/scipy/reference/stats.html\n",
    "\n",
    "**Literature examples**\n",
    "\n",
    "- https://en.wikipedia.org/wiki/Statistical_hypothesis_testing\n",
    "- http://greenteapress.com/wp/think-stats-2e/ (online book covering most of the CAS Module 2)\n",
    "\n",
    "- For life sciences (bioinformatics) for example\n",
    "https://cran.r-project.org/doc/contrib/Krijnen-IntroBioInfStatistics.pdf\n",
    "- (Particle) Physics\n",
    "http://pdg.lbl.gov/2018/reviews/rpp2018-rev-statistics.pdf\n"
   ]
  },
  {
   "cell_type": "code",
   "execution_count": 1,
   "metadata": {
    "colab": {
     "base_uri": "https://localhost:8080/"
    },
    "id": "9hFY4XtvECkZ",
    "outputId": "e76f555c-85b9-4863-d489-3e0438985b66"
   },
   "outputs": [],
   "source": [
    "#!pip install seaborn --upgrade scipy\n",
    "import numpy as np\n",
    "import matplotlib.pyplot as plt\n",
    "import pandas as pd\n",
    "import statsmodels.api as sm\n",
    "from scipy import stats"
   ]
  },
  {
   "cell_type": "markdown",
   "metadata": {
    "id": "cL5xkyEUECkb"
   },
   "source": [
    "## 4.1 Summary of the main points"
   ]
  },
  {
   "cell_type": "markdown",
   "metadata": {
    "id": "6GGLvYXzECkc"
   },
   "source": [
    "The hypothesis being tested is called the *null hypothesis*. When doing a statistical test, the test statistic of a sample is calculated and and then we check how probable this value is given the null hypothesis. To this end, we look a the p-value.\n",
    "\n",
    "More precisely, the p-value is the probability of obtaining such a sample if the null hypothesis is true. A significance level of 5% is often used as the threshold where you say, this is so unlikely that I consider the null hypothesis as wrong. However, 5% still means that this happens in 5 out of 100 times.\n",
    "\n",
    "Depending on your working hypothesis $H_1$, you are either interested in a one-, or two-sided test. Roughly speaking you'll use a one-tailed (``` greater, less ```) test, when having a hypothesis about the direction of an effect e.g. group 1 is better that group 2. You'll use a two-tailed test (```two-sided```) when you just want to show that the two groups are different. \n",
    "For more insight on this, check out this link https://stats.idre.ucla.edu/other/mult-pkg/faq/general/faq-what-are-the-differences-between-one-tailed-and-two-tailed-tests/\n",
    "\n",
    "In Python (an R) you can adapt the direction of you test with the argument via\n",
    "\n",
    "```\n",
    "alternative='two-sided', 'less', 'greater'\n",
    "```\n",
    "To avoid confusion the code below below always uses ```alternative='two-sided```.\n",
    "\n"
   ]
  },
  {
   "cell_type": "markdown",
   "metadata": {
    "id": "VZ_xY_wjECki"
   },
   "source": [
    "### Error types and statistical power"
   ]
  },
  {
   "cell_type": "markdown",
   "metadata": {
    "id": "9ZHJS02RECki"
   },
   "source": [
    "- Type I : Reject the null hypothesis due to a fluctuation (false positive)\n",
    "- Type II : Keep the null hypothesis by interpreting a real effect as a fluctuation (false negative)\n",
    "- (Type 0 : Make the right conclusion but asking the wrong question)\n",
    " \n",
    "People may talk about the **statistical power** of their experiment. This is a number between 0 and 1 telling how often your experiment would lead to a type II error. So a high power (close to 1) means rare type II errors. The statistical power is infuenced by your significance criterion, the (physical) magnitude of your effect, the sample size (\"statistics\").\n",
    "\n",
    "### Many tests\n",
    "\n",
    "There are many tests on the market and some or most of them are implemented in Python (or R). It is impossible to look at all the tests that exist, since basically for every scenario there is another test. We therefore focus on a few useful cases. You would look up suiteable tests for your analysis. The important thing is to know what a test assumes (distribution etc) and how to interprete the result and if you can trust the result\n"
   ]
  },
  {
   "cell_type": "markdown",
   "metadata": {
    "id": "qZTVZlkGECki"
   },
   "source": [
    "## 4.2 Normality"
   ]
  },
  {
   "cell_type": "markdown",
   "metadata": {
    "id": "u0VRbqg2kmUT"
   },
   "source": [
    "There are different approaches to deciding whether the normality assumption is satisfied. There are statistical tests as well as grafical approaches. We first look at a graphical approach named Q-Q-Plot\n",
    "\n",
    "### 4.2.1 Q-Q-Plot\n"
   ]
  },
  {
   "cell_type": "markdown",
   "metadata": {
    "id": "tuWZtcAWvLvi"
   },
   "source": [
    "A Q-Q (quantile-quantile) plot, plots the distribution of the data against the expected normal distribution by comparing their quantiles. For normally distributed data, observations should lie approximately on a straight line. If the data is not normal, the points deviate from a straight line. \n",
    "\n",
    "Let us first generate some normal data, to see how a Q-Q-Plot ideally should look like."
   ]
  },
  {
   "cell_type": "code",
   "execution_count": 9,
   "metadata": {
    "colab": {
     "base_uri": "https://localhost:8080/",
     "height": 279
    },
    "id": "ZLThYnuik7_2",
    "outputId": "131b1fac-203b-4260-cd88-c6e49c40778a"
   },
   "outputs": [
    {
     "data": {
      "image/png": "[encoded data removed]",
      "text/plain": [
       "<Figure size 432x288 with 1 Axes>"
      ]
     },
     "metadata": {
      "needs_background": "light"
     },
     "output_type": "display_data"
    }
   ],
   "source": [
    "n = 100\n",
    "np.random.seed(26082021) # By fixing the seed, you can make the generation reproducible\n",
    "# Generate a data sample of size n\n",
    "a = np.random.normal(2, 5, size=n)\n",
    "fig=sm.qqplot(a, line='s')\n",
    "plt.show()"
   ]
  },
  {
   "cell_type": "markdown",
   "metadata": {
    "id": "1nG9vZevnKap"
   },
   "source": [
    "Now let us check what happens if the normality assumption is certainly violated."
   ]
  },
  {
   "cell_type": "code",
   "execution_count": 10,
   "metadata": {
    "colab": {
     "base_uri": "https://localhost:8080/",
     "height": 279
    },
    "id": "TAdE2xvanWNV",
    "outputId": "82eef7a8-4cea-401f-ab0c-71edb2217098"
   },
   "outputs": [
    {
     "data": {
      "image/png": "[encoded data removed]",
      "text/plain": [
       "<Figure size 432x288 with 1 Axes>"
      ]
     },
     "metadata": {
      "needs_background": "light"
     },
     "output_type": "display_data"
    }
   ],
   "source": [
    "n = 100\n",
    "np.random.seed(26082021) # By fixing the seed, you can make the generation reproducible\n",
    "# Generate a data sample of size n from a chi-square distribution\n",
    "b = np.random.chisquare(df=3, size=n)\n",
    "fig=sm.qqplot(b, line='s')\n",
    "plt.show()"
   ]
  },
  {
   "cell_type": "markdown",
   "metadata": {
    "id": "PL8RejGHoHpw"
   },
   "source": [
    "Now let us go back to the iris data. The the previous days we suspected that *slength* from of the species *iris virginica* is normally distributed. Let us therefore look at the corresponding Q-Q-Plot."
   ]
  },
  {
   "cell_type": "code",
   "execution_count": 11,
   "metadata": {
    "colab": {
     "base_uri": "https://localhost:8080/",
     "height": 280
    },
    "id": "dzW1okMfopAv",
    "outputId": "8a43e878-8ded-4398-ed32-a2b82c1733ac"
   },
   "outputs": [
    {
     "data": {
      "image/png": "[encoded data removed]",
      "text/plain": [
       "<Figure size 432x288 with 1 Axes>"
      ]
     },
     "metadata": {
      "needs_background": "light"
     },
     "output_type": "display_data"
    }
   ],
   "source": [
    "# Load Data\n",
    "url = \"https://archive.ics.uci.edu/ml/machine-learning-databases/iris/iris.data\"\n",
    "df = pd.read_csv(url,names=['slength','swidth','plength','pwidth','species'])\n",
    "# Choose species & slength\n",
    "df_virginica = df[df['species']=='Iris-virginica']\n",
    "slength = df_virginica['slength']\n",
    "# Q-Q-Plot\n",
    "fig=sm.qqplot(slength, line='s')\n",
    "plt.show()"
   ]
  },
  {
   "cell_type": "markdown",
   "metadata": {
    "id": "V3rUNlU0pJJZ"
   },
   "source": [
    "The Q-Q-Plot looks quite promising. But there are some outliers. When one is not sure on how the decide, it's helpful go generate some normal samples of the same size and compare their Q-Q-Plots to the one at hand."
   ]
  },
  {
   "cell_type": "code",
   "execution_count": 12,
   "metadata": {
    "colab": {
     "base_uri": "https://localhost:8080/",
     "height": 279
    },
    "id": "eSOXT4rEpjUm",
    "outputId": "1fdb355c-7f16-4144-9044-2614f3cd7f73"
   },
   "outputs": [
    {
     "data": {
      "image/png": "[encoded data removed]",
      "text/plain": [
       "<Figure size 432x288 with 1 Axes>"
      ]
     },
     "metadata": {
      "needs_background": "light"
     },
     "output_type": "display_data"
    }
   ],
   "source": [
    "# Generate a data sample of size n\n",
    "c = np.random.normal(slength.mean(), slength.std(), size=len(slength))\n",
    "fig=sm.qqplot(c, line='s')\n",
    "plt.show()"
   ]
  },
  {
   "cell_type": "markdown",
   "metadata": {
    "id": "sVftxaTGp7fA"
   },
   "source": [
    "If we rerun the above code several times, it seems that a normality assumption is justified."
   ]
  },
  {
   "cell_type": "markdown",
   "metadata": {
    "id": "SYuEAGFGqHWg"
   },
   "source": [
    "### 4.2.2 Normality test"
   ]
  },
  {
   "cell_type": "markdown",
   "metadata": {
    "id": "7T0jr3FoECki"
   },
   "source": [
    "An alternative to Q-Q-Plots is provided by normality tests. \n",
    "\n",
    "They can be performed for each column of data. Each normality test reports a p-value that answers this question:\n",
    "\n",
    "If you randomly sample from a Gaussian population, what is the probability of obtaining a sample that deviates from a Gaussian distribution as much (or more so) as this sample does?\n",
    "\n",
    "Normality tests are not good for small samples (<10-20 values). You can do it, but the interpration of the output is not straight forward.\n",
    "\n",
    "There are several normality tests in the Python stats module:\n",
    "- D’Agostino-Pearson\n",
    "- Shapiro-Wilk\n",
    "- Kolomogorv-Smirnov\n",
    "\n",
    "Many people prefer to use the first one. But the others are also widely used. Personally, I often work with Q-Q-Plots because that way I get a better impression on what areas might be critical and what not. But many people prefer tests because the decision is easier to make, however that may also lead to a false sense of security.\n",
    "\n",
    "What is a bit different with normality test compared to other tests, is that we cannot test for normality but rather against normality. Meaning that if the p-value is small that indicates that the data is **not** normally distributed. Hence, we are rather hoping for a p-value close to 1.\n",
    "\n",
    "https://docs.scipy.org/doc/scipy/reference/stats.html\n"
   ]
  },
  {
   "cell_type": "markdown",
   "metadata": {
    "id": "wEphSKf7ECkj"
   },
   "source": [
    "Let us perform the D’Agostino-Pearson test for examples we considered with the Q-Q-Plots. First the data generated from a normal distribution."
   ]
  },
  {
   "cell_type": "code",
   "execution_count": 13,
   "metadata": {
    "colab": {
     "base_uri": "https://localhost:8080/"
    },
    "id": "_xdhRhjyECkk",
    "outputId": "4b63c5c7-8657-455e-cbb4-49d5b860966e"
   },
   "outputs": [
    {
     "name": "stdout",
     "output_type": "stream",
     "text": [
      "Alpha =  0.001\n",
      "p =  0.23116477867149146\n",
      "The null hypothesis cannot be rejected\n"
     ]
    }
   ],
   "source": [
    "k2, p = stats.normaltest(a) # D Agostino-Pearson. The method returns the test statistic value and the p-value\n",
    "alpha = 0.001 # Rejection criterion defined by you\n",
    "print('Alpha = ',alpha)\n",
    "print('p = ',p)\n",
    "if p < alpha:  # null hypothesis: x comes from a normal distribution\n",
    "     print(\"The null hypothesis can be rejected\")\n",
    "else:\n",
    "  print(\"The null hypothesis cannot be rejected\")"
   ]
  },
  {
   "cell_type": "markdown",
   "metadata": {
    "id": "jYTAwFUzECkk"
   },
   "source": [
    "This is not very surprising as we generated the data from a normal distribution. Now let us look at the data generated from a Chi-square distribution."
   ]
  },
  {
   "cell_type": "code",
   "execution_count": 14,
   "metadata": {
    "colab": {
     "base_uri": "https://localhost:8080/"
    },
    "id": "ovPFMCCQs3Oc",
    "outputId": "25361b65-783c-4da5-ea92-eddfacbaafb2"
   },
   "outputs": [
    {
     "name": "stdout",
     "output_type": "stream",
     "text": [
      "Alpha =  0.001\n",
      "p =  0.0008658946948332712\n",
      "The null hypothesis can be rejected\n"
     ]
    }
   ],
   "source": [
    "k2, p = stats.normaltest(b) # D Agostino-Pearson. The method returns the test statistic value and the p-value\n",
    "alpha = 0.001 # Rejection criterion defined by you\n",
    "print('Alpha = ',alpha)\n",
    "print('p = ',p)\n",
    "if p < alpha:  # null hypothesis: x comes from a normal distribution\n",
    "     print(\"The null hypothesis can be rejected\")\n",
    "else:\n",
    "  print(\"The null hypothesis cannot be rejected\")"
   ]
  },
  {
   "cell_type": "markdown",
   "metadata": {
    "id": "DtgNzuf0tKV7"
   },
   "source": [
    "Indeed the normality test suggest that we should reject the normality assumption. Finally let us looks again at *slength* from *iris virginica*."
   ]
  },
  {
   "cell_type": "code",
   "execution_count": 15,
   "metadata": {
    "colab": {
     "base_uri": "https://localhost:8080/"
    },
    "id": "2uHxrf2qtmrv",
    "outputId": "aaf9ae49-3701-43a3-fddb-c83ee7f93cf7"
   },
   "outputs": [
    {
     "name": "stdout",
     "output_type": "stream",
     "text": [
      "Alpha =  0.001\n",
      "p =  0.9008201941206306\n",
      "The null hypothesis cannot be rejected\n"
     ]
    }
   ],
   "source": [
    "k2, p = stats.normaltest(slength) # D Agostino-Pearson. The method returns the test statistic value and the p-value\n",
    "alpha = 0.001 # Rejection criterion defined by you\n",
    "print('Alpha = ',alpha)\n",
    "print('p = ',p)\n",
    "if p < alpha:  # null hypothesis: x comes from a normal distribution\n",
    "     print(\"The null hypothesis can be rejected\")\n",
    "else:\n",
    "  print(\"The null hypothesis cannot be rejected\")"
   ]
  },
  {
   "cell_type": "markdown",
   "metadata": {
    "id": "EgbUYIcEtryT"
   },
   "source": [
    "Considering the Q-Q-Plot we concluded that the normality assumption is justified. The D’Agostino-Pearson test confirms this conclusion.\n"
   ]
  },
  {
   "cell_type": "markdown",
   "metadata": {
    "id": "3WhvYsqcECkk"
   },
   "source": [
    "Let us do one more characteristic together. This time we look at the species *iris setosa* and its characteristic *swidth*."
   ]
  },
  {
   "cell_type": "code",
   "execution_count": 16,
   "metadata": {
    "colab": {
     "base_uri": "https://localhost:8080/"
    },
    "id": "xiT7tUgYECkl",
    "outputId": "5dd9e0d7-7163-437a-d43e-f0f48f690699"
   },
   "outputs": [
    {
     "name": "stdout",
     "output_type": "stream",
     "text": [
      "DescribeResult(nobs=50, minmax=(2.3, 4.4), mean=3.418, variance=0.1451795918367347, skewness=0.1038140820747848, kurtosis=0.6851340609499261)\n"
     ]
    },
    {
     "data": {
      "text/plain": [
       "count    50.000000\n",
       "mean      3.418000\n",
       "std       0.381024\n",
       "min       2.300000\n",
       "25%       3.125000\n",
       "50%       3.400000\n",
       "75%       3.675000\n",
       "max       4.400000\n",
       "Name: swidth, dtype: float64"
      ]
     },
     "execution_count": 16,
     "metadata": {},
     "output_type": "execute_result"
    }
   ],
   "source": [
    "df_setosa=df[df['species'] == 'Iris-setosa']\n",
    "dfs = df_setosa['swidth']\n",
    "print(stats.describe(dfs)) # Print some descriptive statistics\n",
    "dfs.describe() # the pandas describe prints similar statistics"
   ]
  },
  {
   "cell_type": "markdown",
   "metadata": {
    "id": "P1YykOs2ECkl"
   },
   "source": [
    "Check the normality of the iris sepal length of species"
   ]
  },
  {
   "cell_type": "code",
   "execution_count": 17,
   "metadata": {
    "colab": {
     "base_uri": "https://localhost:8080/"
    },
    "id": "UcQl1rn5ECkl",
    "outputId": "59556e92-1187-4006-f662-80c9a4ece039"
   },
   "outputs": [
    {
     "name": "stdout",
     "output_type": "stream",
     "text": [
      "p-value = 0.39\n"
     ]
    }
   ],
   "source": [
    "k2, p = stats.normaltest(dfs) # D Agostino-Pearson test\n",
    "print(\"p-value = %1.2f\" % p)"
   ]
  },
  {
   "cell_type": "markdown",
   "metadata": {
    "id": "Hb5fcXBKECkm"
   },
   "source": [
    "What does this p-value mean? If you want to know what the k2 is, look it up in the documentation. What about de other species and characteristics?"
   ]
  },
  {
   "cell_type": "markdown",
   "metadata": {
    "id": "3_eLQ3lEECkm"
   },
   "source": [
    "We can also try the shapiro test that the stat module offers:"
   ]
  },
  {
   "cell_type": "code",
   "execution_count": 18,
   "metadata": {
    "colab": {
     "base_uri": "https://localhost:8080/"
    },
    "id": "vn2rnlUNECkm",
    "outputId": "9ee414f1-45b6-43ba-ae02-07308b226e5c"
   },
   "outputs": [
    {
     "name": "stdout",
     "output_type": "stream",
     "text": [
      "Test statistic =  0.968691885471344  p-value = 0.20465604960918427\n"
     ]
    }
   ],
   "source": [
    "s,p = stats.shapiro(dfs)\n",
    "print('Test statistic = ',s,' p-value =',p)"
   ]
  },
  {
   "cell_type": "markdown",
   "metadata": {
    "id": "kxoVtddBECkn"
   },
   "source": [
    "In this case the shapiro test returns a lower p-value. How should you proceed?"
   ]
  },
  {
   "cell_type": "markdown",
   "metadata": {
    "id": "h4ulhAzfvTpL"
   },
   "source": [
    "## 4.3 One-sample tests\n",
    "Having seen how we can check for normality let us introduce the tests seen on the slides.\n",
    "More details on the specific tests will be given in the presentations tomorrow. Nonetheless it's helpful to have an overview on how the tests are performed. \n",
    "To illustrate the 1-sample tests we want to test whether the *true* center of the distribution of *swidth* of *iris setosa* equals $3.3$. "
   ]
  },
  {
   "cell_type": "markdown",
   "metadata": {
    "id": "P2ZhBJitECko"
   },
   "source": [
    "### 4.3.1 t-Test\n",
    "\n",
    "With the t-test you can test your data against a normal distribution with a given mean:\n",
    "\n",
    "If the data were sampled from a Gaussian population with a mean equal to the hypothetical value you entered, what is the chance of randomly selecting N data points and finding a mean as far (or further) from the hypothetical value as observed here?\n",
    "\n",
    "https://docs.scipy.org/doc/scipy/reference/generated/scipy.stats.normaltest.html#scipy.stats.normaltest"
   ]
  },
  {
   "cell_type": "code",
   "execution_count": 19,
   "metadata": {
    "colab": {
     "base_uri": "https://localhost:8080/"
    },
    "id": "5vrPf86CECko",
    "outputId": "317812f2-52c3-40b5-f422-04b355374160"
   },
   "outputs": [
    {
     "name": "stdout",
     "output_type": "stream",
     "text": [
      "The sample mean of the sepal length =  3.4180000000000006\n"
     ]
    },
    {
     "data": {
      "text/plain": [
       "Ttest_1sampResult(statistic=2.1898492754769694, pvalue=0.033325644557196644)"
      ]
     },
     "execution_count": 19,
     "metadata": {},
     "output_type": "execute_result"
    }
   ],
   "source": [
    "print('The sample mean of the sepal length = ',dfs.mean())\n",
    "\n",
    "stats.ttest_1samp(a=dfs,popmean=3.3, alternative='two-sided')"
   ]
  },
  {
   "cell_type": "markdown",
   "metadata": {
    "id": "CRsNnpqfECko"
   },
   "source": [
    "**Interpretation:** If the real average of the sepal length of setosa leaves is 3.3 cm and if the length of the leaves is normally distributed, the probability of sampling this data or worse data from setosa leaves is 3.3%. So we would reject the null hypothesis on level 95%"
   ]
  },
  {
   "cell_type": "markdown",
   "metadata": {
    "id": "IfL2IZhsECkp"
   },
   "source": [
    "Our null hypothesis in this case was a normal distribution with mean equal to 3.3 cm."
   ]
  },
  {
   "cell_type": "markdown",
   "metadata": {
    "id": "pwkZAIPxwjNA"
   },
   "source": [
    "### 4.3.2 Wilcoxon signed rank test"
   ]
  },
  {
   "cell_type": "markdown",
   "metadata": {
    "id": "TN8LqHyI1OVk"
   },
   "source": [
    "If normality is not satisfied but the distribution can be assumed to be symmetric we can perform a one-sample Wilcoxon signed rank test. It works similar to the t-test but we have to subtract the guessed population mean.\n",
    "\n",
    "https://docs.scipy.org/doc/scipy/reference/generated/scipy.stats.wilcoxon.html#scipy.stats.wilcoxon"
   ]
  },
  {
   "cell_type": "code",
   "execution_count": 20,
   "metadata": {
    "colab": {
     "base_uri": "https://localhost:8080/"
    },
    "id": "VckwDkm6w8IN",
    "outputId": "fc5e6ab7-23d5-496b-9a74-ee2fc03ea9ae"
   },
   "outputs": [
    {
     "data": {
      "text/plain": [
       "WilcoxonResult(statistic=352.0, pvalue=0.01533078537135795)"
      ]
     },
     "execution_count": 20,
     "metadata": {},
     "output_type": "execute_result"
    }
   ],
   "source": [
    "stats.wilcoxon(dfs-3.3, alternative='two-sided')"
   ]
  },
  {
   "cell_type": "markdown",
   "metadata": {
    "id": "Qit9RJk00cCz"
   },
   "source": [
    "### 4.3.3 Sign test"
   ]
  },
  {
   "cell_type": "markdown",
   "metadata": {
    "id": "lBWPXA0r1myG"
   },
   "source": [
    "If the distribtuion is neither normal nor symmetric we can perform a sign-test. For some reason, only the two-sided version is implemented. But the sign-test is fairly easy to calculate by hand.\n",
    "\n",
    "https://www.statsmodels.org/stable/generated/statsmodels.stats.descriptivestats.sign_test.html\n",
    "\n",
    "https://en.wikipedia.org/wiki/Sign_test"
   ]
  },
  {
   "cell_type": "code",
   "execution_count": 21,
   "metadata": {
    "colab": {
     "base_uri": "https://localhost:8080/"
    },
    "id": "BF21xkVd0lj_",
    "outputId": "cb938a72-7f6a-4a5c-c846-5fa263f3664b"
   },
   "outputs": [
    {
     "data": {
      "text/plain": [
       "(6.0, 0.11140289106101878)"
      ]
     },
     "execution_count": 21,
     "metadata": {},
     "output_type": "execute_result"
    }
   ],
   "source": [
    "import statsmodels.stats.descriptivestats as dstat\n",
    "dstat.sign_test(dfs, mu0=3.3)"
   ]
  },
  {
   "cell_type": "markdown",
   "metadata": {
    "id": "h20vp8UhECkp"
   },
   "source": [
    "## 4.4 Two-sample Tests "
   ]
  },
  {
   "cell_type": "markdown",
   "metadata": {
    "id": "m6x_0k2MECkq"
   },
   "source": [
    "In many experiments one uses two groups, a treated group and a control group which is not treated. The goal is then to ckeck the effect of the treatment.\n",
    "\n",
    "One way to answer this, is to check how much the treated group differs from the control group. Python stats module offer several tests to do this.\n",
    "\n",
    "If the data is \"paired\", this can be used in the tests (they get better because there is more \"information or structure\" in the data). So we need to know what paired data is in order to choose the right test.\n",
    "\n",
    "**Paired/related data**\n",
    "- Repeated measurements on the same object/individual, e.g. before and after treatment \n",
    "\n",
    "**Unpaired/independent data**\n",
    "- Independent, e.g. from separate individuals"
   ]
  },
  {
   "cell_type": "markdown",
   "metadata": {
    "id": "iHeJlBTNECkq"
   },
   "source": [
    "### 4.4.1 t-test for normally distributed unpaired data with not assuming equal variance"
   ]
  },
  {
   "cell_type": "markdown",
   "metadata": {
    "id": "RfRbY5ciECkq"
   },
   "source": [
    "Let us perform a test comparing the sepal width of the setosa and the virginica species. \n",
    "https://docs.scipy.org/doc/scipy/reference/generated/scipy.stats.ttest_ind.html#scipy.stats.ttest_ind"
   ]
  },
  {
   "cell_type": "code",
   "execution_count": 22,
   "metadata": {
    "colab": {
     "base_uri": "https://localhost:8080/",
     "height": 206
    },
    "id": "cZboud7GECkq",
    "outputId": "dd443737-b802-4c87-c60b-2c213e4ec0cf"
   },
   "outputs": [
    {
     "data": {
      "text/html": [
       "<div>\n",
       "<style scoped>\n",
       "    .dataframe tbody tr th:only-of-type {\n",
       "        vertical-align: middle;\n",
       "    }\n",
       "\n",
       "    .dataframe tbody tr th {\n",
       "        vertical-align: top;\n",
       "    }\n",
       "\n",
       "    .dataframe thead th {\n",
       "        text-align: right;\n",
       "    }\n",
       "</style>\n",
       "<table border=\"1\" class=\"dataframe\">\n",
       "  <thead>\n",
       "    <tr style=\"text-align: right;\">\n",
       "      <th></th>\n",
       "      <th>slength</th>\n",
       "      <th>swidth</th>\n",
       "      <th>plength</th>\n",
       "      <th>pwidth</th>\n",
       "      <th>species</th>\n",
       "    </tr>\n",
       "  </thead>\n",
       "  <tbody>\n",
       "    <tr>\n",
       "      <th>100</th>\n",
       "      <td>6.3</td>\n",
       "      <td>3.3</td>\n",
       "      <td>6.0</td>\n",
       "      <td>2.5</td>\n",
       "      <td>Iris-virginica</td>\n",
       "    </tr>\n",
       "    <tr>\n",
       "      <th>101</th>\n",
       "      <td>5.8</td>\n",
       "      <td>2.7</td>\n",
       "      <td>5.1</td>\n",
       "      <td>1.9</td>\n",
       "      <td>Iris-virginica</td>\n",
       "    </tr>\n",
       "    <tr>\n",
       "      <th>102</th>\n",
       "      <td>7.1</td>\n",
       "      <td>3.0</td>\n",
       "      <td>5.9</td>\n",
       "      <td>2.1</td>\n",
       "      <td>Iris-virginica</td>\n",
       "    </tr>\n",
       "    <tr>\n",
       "      <th>103</th>\n",
       "      <td>6.3</td>\n",
       "      <td>2.9</td>\n",
       "      <td>5.6</td>\n",
       "      <td>1.8</td>\n",
       "      <td>Iris-virginica</td>\n",
       "    </tr>\n",
       "    <tr>\n",
       "      <th>104</th>\n",
       "      <td>6.5</td>\n",
       "      <td>3.0</td>\n",
       "      <td>5.8</td>\n",
       "      <td>2.2</td>\n",
       "      <td>Iris-virginica</td>\n",
       "    </tr>\n",
       "  </tbody>\n",
       "</table>\n",
       "</div>"
      ],
      "text/plain": [
       "     slength  swidth  plength  pwidth         species\n",
       "100      6.3     3.3      6.0     2.5  Iris-virginica\n",
       "101      5.8     2.7      5.1     1.9  Iris-virginica\n",
       "102      7.1     3.0      5.9     2.1  Iris-virginica\n",
       "103      6.3     2.9      5.6     1.8  Iris-virginica\n",
       "104      6.5     3.0      5.8     2.2  Iris-virginica"
      ]
     },
     "execution_count": 22,
     "metadata": {},
     "output_type": "execute_result"
    }
   ],
   "source": [
    "df_virginica=df[df['species'] == 'Iris-virginica']\n",
    "df_virginica.head() # Just cheking that we got the right data by looking at the first five (head)"
   ]
  },
  {
   "cell_type": "markdown",
   "metadata": {
    "id": "OgykAA_ZECkq"
   },
   "source": [
    "We did test that the setosa setal width is very normal. Let us also check the virginica setal width."
   ]
  },
  {
   "cell_type": "code",
   "execution_count": 23,
   "metadata": {
    "colab": {
     "base_uri": "https://localhost:8080/"
    },
    "id": "zZeo7UOJECkq",
    "outputId": "486d9088-d4bf-4bbc-cc7b-e3d68f573e2a"
   },
   "outputs": [
    {
     "name": "stdout",
     "output_type": "stream",
     "text": [
      "p-value = 0.28\n"
     ]
    }
   ],
   "source": [
    "k2, p = stats.normaltest(df_virginica['swidth']) # D Agostino-Pearson test\n",
    "print(\"p-value = %1.2f\" % p)"
   ]
  },
  {
   "cell_type": "markdown",
   "metadata": {
    "id": "owO7j7SLECkq"
   },
   "source": [
    "This looks also very normal. How likely is it that these two samples come from a normal sample with the same mean?"
   ]
  },
  {
   "cell_type": "code",
   "execution_count": 24,
   "metadata": {
    "colab": {
     "base_uri": "https://localhost:8080/"
    },
    "id": "3sjktUvqECkq",
    "outputId": "32c633c7-a66b-4138-a916-4461c5bf5e99"
   },
   "outputs": [
    {
     "data": {
      "text/plain": [
       "Ttest_indResult(statistic=6.289384996672061, pvalue=9.58603917037916e-09)"
      ]
     },
     "execution_count": 24,
     "metadata": {},
     "output_type": "execute_result"
    }
   ],
   "source": [
    "stats.ttest_ind(df_setosa['swidth'],df_virginica['swidth'], equal_var = False, alternative='two-sided') # False means we don't assume equal variances (Welsch's t-test)"
   ]
  },
  {
   "cell_type": "markdown",
   "metadata": {
    "id": "nCx8cjjHECkr"
   },
   "source": [
    "**Interpretation :** It is extremly unlikely that these samples would come from a population with the same mean. \n",
    "The sample means were:"
   ]
  },
  {
   "cell_type": "code",
   "execution_count": 25,
   "metadata": {
    "colab": {
     "base_uri": "https://localhost:8080/"
    },
    "id": "0zJiylwNECkr",
    "outputId": "7c2f0428-a464-46b5-e942-a0ebb5a62da7"
   },
   "outputs": [
    {
     "name": "stdout",
     "output_type": "stream",
     "text": [
      "2.97 3.42\n"
     ]
    },
    {
     "name": "stderr",
     "output_type": "stream",
     "text": [
      "C:\\Users\\ns18v691\\AppData\\Local\\Temp\\ipykernel_6988\\3813768016.py:1: FutureWarning: Dropping of nuisance columns in DataFrame reductions (with 'numeric_only=None') is deprecated; in a future version this will raise TypeError.  Select only valid columns before calling the reduction.\n",
      "  print(\"%1.2f %1.2f\" % (df_virginica.mean()['swidth'], df_setosa.mean()['swidth']))\n"
     ]
    }
   ],
   "source": [
    "print(\"%1.2f %1.2f\" % (df_virginica.mean()['swidth'], df_setosa.mean()['swidth']))"
   ]
  },
  {
   "cell_type": "markdown",
   "metadata": {
    "id": "rAZdi_FzECks"
   },
   "source": [
    "### 4.4.2 t-test for normally distributed unpaired data assuming equal variance"
   ]
  },
  {
   "cell_type": "code",
   "execution_count": 26,
   "metadata": {
    "colab": {
     "base_uri": "https://localhost:8080/"
    },
    "id": "Zb158UTfECks",
    "outputId": "356b17a7-b82e-4249-b0cd-1f1b78d36c8b"
   },
   "outputs": [
    {
     "data": {
      "text/plain": [
       "Ttest_indResult(statistic=6.289384996672061, pvalue=8.916634067006443e-09)"
      ]
     },
     "execution_count": 26,
     "metadata": {},
     "output_type": "execute_result"
    }
   ],
   "source": [
    "stats.ttest_ind(df_setosa['swidth'],df_virginica['swidth'], equal_var = True, alternative='two-sided') # True means we assume equal variances "
   ]
  },
  {
   "cell_type": "markdown",
   "metadata": {
    "id": "5OPZ9_LZECks"
   },
   "source": [
    "**Interpretation :** It is extremly unlikely that these samples would come from a population with the same mean and the same variance.\n",
    "\n",
    "The p-value got slightly worse, but such small p-values have no meaning anyway. p-values below 0.01 are often not that precise. We just know they are below 0.01.\n",
    "\n",
    "\n"
   ]
  },
  {
   "cell_type": "markdown",
   "metadata": {
    "id": "yvWT7ZE0ECks"
   },
   "source": [
    "### 4.4.3 Mann-Whitney U for *not* normally distributed unpaired data"
   ]
  },
  {
   "cell_type": "markdown",
   "metadata": {
    "id": "-2kU2KLJECkt"
   },
   "source": [
    "Compute the Mann-Whitney U test on samples x and y. Only use with more than 20 data points.\n",
    "http://localhost:8888/notebooks/work/SDA-4-Hypothesis-Testing.ipynb#t-Test"
   ]
  },
  {
   "cell_type": "code",
   "execution_count": 27,
   "metadata": {
    "colab": {
     "base_uri": "https://localhost:8080/"
    },
    "id": "VsT1ZGpvECkt",
    "outputId": "8e53a5b4-0495-4353-9e34-29ba295d4571"
   },
   "outputs": [
    {
     "data": {
      "text/plain": [
       "MannwhitneyuResult(statistic=2073.5, pvalue=1.1808768215413658e-08)"
      ]
     },
     "execution_count": 27,
     "metadata": {},
     "output_type": "execute_result"
    }
   ],
   "source": [
    "stats.mannwhitneyu(df_setosa['swidth'],df_virginica['swidth'], alternative='two-sided')"
   ]
  },
  {
   "cell_type": "markdown",
   "metadata": {
    "id": "6ZKz1VRTECku"
   },
   "source": [
    "Let us do this test with samples from the same population."
   ]
  },
  {
   "cell_type": "code",
   "execution_count": 28,
   "metadata": {
    "colab": {
     "base_uri": "https://localhost:8080/"
    },
    "id": "VFlindVRECku",
    "outputId": "ea42b066-8436-4a57-981c-d6af0043780d"
   },
   "outputs": [
    {
     "name": "stdout",
     "output_type": "stream",
     "text": [
      "MannwhitneyuResult(statistic=365.0, pvalue=0.3101127889935418)\n",
      "MannwhitneyuResult(statistic=42.5, pvalue=0.595035151629138)\n",
      "MannwhitneyuResult(statistic=9.0, pvalue=0.5283593272709488)\n"
     ]
    }
   ],
   "source": [
    "print(stats.mannwhitneyu(df_setosa['swidth'][:25],df_setosa['swidth'][25:50], alternative='two-sided'))\n",
    "print(stats.mannwhitneyu(df_setosa['swidth'][:10],df_setosa['swidth'][40:50], alternative='two-sided'))\n",
    "print(stats.mannwhitneyu(df_setosa['swidth'][:5],df_setosa['swidth'][45:50], alternative='two-sided'))"
   ]
  },
  {
   "cell_type": "markdown",
   "metadata": {
    "id": "CE1RfElMECku"
   },
   "source": [
    "The p-value varies quite a lot with the size of the samples. Here we would need to study where it gets stable."
   ]
  },
  {
   "cell_type": "markdown",
   "metadata": {
    "id": "KuLqwtqWECkv"
   },
   "source": [
    "Compute the **Kolmogorov-Smirnov** statistic on 2 samples. This is a test for the null hypothesis that 2 independent samples are drawn from the same continuous distribution. https://docs.scipy.org/doc/scipy/reference/generated/scipy.stats.ks_2samp.html#scipy.stats.ks_2samp"
   ]
  },
  {
   "cell_type": "code",
   "execution_count": 29,
   "metadata": {
    "colab": {
     "base_uri": "https://localhost:8080/"
    },
    "id": "nxaPB-iPECkv",
    "outputId": "d501a384-05c2-4976-e0e9-c6180260948c"
   },
   "outputs": [
    {
     "data": {
      "text/plain": [
       "KstestResult(statistic=0.5, pvalue=4.8075337049514946e-06)"
      ]
     },
     "execution_count": 29,
     "metadata": {},
     "output_type": "execute_result"
    }
   ],
   "source": [
    "stats.ks_2samp(df_setosa['swidth'],df_virginica['swidth'])"
   ]
  },
  {
   "cell_type": "markdown",
   "metadata": {
    "id": "nAJ3pRRUECkv"
   },
   "source": [
    "**Interpretation:** It is very unlikely that these sets come from the same population."
   ]
  },
  {
   "cell_type": "markdown",
   "metadata": {
    "id": "OJ4T6dgfECkw"
   },
   "source": [
    "Let's do it on the same population."
   ]
  },
  {
   "cell_type": "code",
   "execution_count": 30,
   "metadata": {
    "colab": {
     "base_uri": "https://localhost:8080/"
    },
    "id": "L51PZHY-ECkw",
    "outputId": "0594b411-7d44-4326-a390-210fecb3c629"
   },
   "outputs": [
    {
     "name": "stdout",
     "output_type": "stream",
     "text": [
      "KstestResult(statistic=0.2, pvalue=0.7102038997076623)\n",
      "KstestResult(statistic=0.2, pvalue=0.9944575548290717)\n",
      "KstestResult(statistic=0.4, pvalue=0.873015873015873)\n"
     ]
    }
   ],
   "source": [
    "print(stats.ks_2samp(df_setosa['swidth'][:25],df_setosa['swidth'][25:50]))\n",
    "print(stats.ks_2samp(df_setosa['swidth'][:10],df_setosa['swidth'][40:50]))\n",
    "print(stats.ks_2samp(df_setosa['swidth'][:5],df_setosa['swidth'][45:50]))"
   ]
  },
  {
   "cell_type": "markdown",
   "metadata": {
    "id": "GKYcBqP5ECkw"
   },
   "source": [
    "For both tests we get very small p-values as expected, when the sets are from different species. When we split one of the datasets into two subsets, the p-values are higher. "
   ]
  },
  {
   "cell_type": "markdown",
   "metadata": {
    "id": "oKEUj5LPECkw"
   },
   "source": [
    "### 4.4.4 t-test for normally distributed paired data"
   ]
  },
  {
   "cell_type": "markdown",
   "metadata": {
    "id": "b-DhgPqAECkw"
   },
   "source": [
    "\n",
    "Calculate the T-test on TWO RELATED samples. This is a test for the null hypothesis that 2 related or repeated samples have identical average (expected) values.\n",
    "\n",
    "https://docs.scipy.org/doc/scipy/reference/generated/scipy.stats.ttest_rel.html#scipy.stats.ttest_rel"
   ]
  },
  {
   "cell_type": "markdown",
   "metadata": {
    "id": "dDRNX8ECECkw"
   },
   "source": [
    "Let's test if the swidth and the slength (related/paired) of the setosa sample have identical means. "
   ]
  },
  {
   "cell_type": "code",
   "execution_count": 31,
   "metadata": {
    "colab": {
     "base_uri": "https://localhost:8080/"
    },
    "id": "O05zmU6GECkx",
    "outputId": "849315f6-01ee-4b06-c647-fd2c25a23d82"
   },
   "outputs": [
    {
     "data": {
      "text/plain": [
       "Ttest_relResult(statistic=-42.799455674951105, pvalue=1.7724677938534975e-40)"
      ]
     },
     "execution_count": 31,
     "metadata": {},
     "output_type": "execute_result"
    }
   ],
   "source": [
    "stats.ttest_rel(df_setosa['swidth'],df_setosa['slength'], alternative='two-sided')"
   ]
  },
  {
   "cell_type": "markdown",
   "metadata": {
    "id": "5CnUZyieECkx"
   },
   "source": [
    "As expected the p-value is very small (we know that swidth and slength have very different means). Let's test two subsamples from the same sample:"
   ]
  },
  {
   "cell_type": "code",
   "execution_count": 32,
   "metadata": {
    "colab": {
     "base_uri": "https://localhost:8080/"
    },
    "id": "O1Vg75ZoECkx",
    "outputId": "5fb4589c-a85f-4bb8-d8bb-095d3575fac9"
   },
   "outputs": [
    {
     "data": {
      "text/plain": [
       "Ttest_relResult(statistic=array([1.08300729]), pvalue=array([0.2895664]))"
      ]
     },
     "execution_count": 32,
     "metadata": {},
     "output_type": "execute_result"
    }
   ],
   "source": [
    "stats.ttest_rel(df_setosa.iloc[0:25,1:2],df_setosa.iloc[25:50,1:2], alternative='two-sided')\n"
   ]
  },
  {
   "cell_type": "markdown",
   "metadata": {
    "id": "px6IYAY3ECkx"
   },
   "source": [
    "As expected the p-value is high."
   ]
  },
  {
   "cell_type": "markdown",
   "metadata": {
    "id": "E8CakeRIECkx"
   },
   "source": [
    "### 4.4.4 Wilcoxon signed-rank test for *not* normally distributed paired data"
   ]
  },
  {
   "cell_type": "markdown",
   "metadata": {
    "id": "EKgem_7-ECky"
   },
   "source": [
    "The Wilcoxon signed-rank test is a non-parametric statistical hypothesis test used to compare two related samples, matched samples, or repeated measurements on a single sample to assess whether their population mean ranks differ (i.e. it is a paired difference test). It can be used as an alternative to the paired Student's t-test, t-test for matched pairs, or the t-test for dependent samples when the population cannot be assumed to be normally distributed.\n",
    "https://docs.scipy.org/doc/scipy/reference/generated/scipy.stats.wilcoxon.html#scipy.stats.wilcoxon"
   ]
  },
  {
   "cell_type": "code",
   "execution_count": 33,
   "metadata": {
    "colab": {
     "base_uri": "https://localhost:8080/"
    },
    "id": "7iHy2WtoECky",
    "outputId": "0c915819-e1b8-4504-8b8d-5d13ee67e786"
   },
   "outputs": [
    {
     "data": {
      "text/plain": [
       "WilcoxonResult(statistic=0.0, pvalue=7.392803652204549e-10)"
      ]
     },
     "execution_count": 33,
     "metadata": {},
     "output_type": "execute_result"
    }
   ],
   "source": [
    "stats.wilcoxon(df_setosa['swidth'],df_setosa['slength'], alternative='two-sided')"
   ]
  },
  {
   "cell_type": "markdown",
   "metadata": {
    "run_control": {
     "marked": false
    }
   },
   "source": [
    "### Mice example"
   ]
  },
  {
   "cell_type": "code",
   "execution_count": 2,
   "metadata": {},
   "outputs": [
    {
     "data": {
      "text/html": [
       "<div>\n",
       "<style scoped>\n",
       "    .dataframe tbody tr th:only-of-type {\n",
       "        vertical-align: middle;\n",
       "    }\n",
       "\n",
       "    .dataframe tbody tr th {\n",
       "        vertical-align: top;\n",
       "    }\n",
       "\n",
       "    .dataframe thead th {\n",
       "        text-align: right;\n",
       "    }\n",
       "</style>\n",
       "<table border=\"1\" class=\"dataframe\">\n",
       "  <thead>\n",
       "    <tr style=\"text-align: right;\">\n",
       "      <th>group</th>\n",
       "      <th>before</th>\n",
       "      <th>after</th>\n",
       "    </tr>\n",
       "    <tr>\n",
       "      <th>mice_nr</th>\n",
       "      <th></th>\n",
       "      <th></th>\n",
       "    </tr>\n",
       "  </thead>\n",
       "  <tbody>\n",
       "    <tr>\n",
       "      <th>m01</th>\n",
       "      <td>200.1</td>\n",
       "      <td>392.9</td>\n",
       "    </tr>\n",
       "    <tr>\n",
       "      <th>m02</th>\n",
       "      <td>190.9</td>\n",
       "      <td>393.2</td>\n",
       "    </tr>\n",
       "    <tr>\n",
       "      <th>m03</th>\n",
       "      <td>192.7</td>\n",
       "      <td>345.1</td>\n",
       "    </tr>\n",
       "    <tr>\n",
       "      <th>m04</th>\n",
       "      <td>213.0</td>\n",
       "      <td>200.0</td>\n",
       "    </tr>\n",
       "    <tr>\n",
       "      <th>m05</th>\n",
       "      <td>241.4</td>\n",
       "      <td>434.0</td>\n",
       "    </tr>\n",
       "    <tr>\n",
       "      <th>m06</th>\n",
       "      <td>196.9</td>\n",
       "      <td>120.0</td>\n",
       "    </tr>\n",
       "    <tr>\n",
       "      <th>m07</th>\n",
       "      <td>172.2</td>\n",
       "      <td>422.0</td>\n",
       "    </tr>\n",
       "    <tr>\n",
       "      <th>m08</th>\n",
       "      <td>185.5</td>\n",
       "      <td>383.9</td>\n",
       "    </tr>\n",
       "    <tr>\n",
       "      <th>m09</th>\n",
       "      <td>205.2</td>\n",
       "      <td>392.3</td>\n",
       "    </tr>\n",
       "    <tr>\n",
       "      <th>m10</th>\n",
       "      <td>193.7</td>\n",
       "      <td>352.2</td>\n",
       "    </tr>\n",
       "  </tbody>\n",
       "</table>\n",
       "</div>"
      ],
      "text/plain": [
       "group    before  after\n",
       "mice_nr               \n",
       "m01       200.1  392.9\n",
       "m02       190.9  393.2\n",
       "m03       192.7  345.1\n",
       "m04       213.0  200.0\n",
       "m05       241.4  434.0\n",
       "m06       196.9  120.0\n",
       "m07       172.2  422.0\n",
       "m08       185.5  383.9\n",
       "m09       205.2  392.3\n",
       "m10       193.7  352.2"
      ]
     },
     "execution_count": 2,
     "metadata": {},
     "output_type": "execute_result"
    }
   ],
   "source": [
    "df_mice0 = pd.read_csv('mice_weight.csv')\n",
    "df_mice0.insert(0, 'mice_nr', ['m01', 'm02', 'm03', 'm04', 'm05', 'm06', 'm07', 'm08', 'm09', 'm10', 'm01', 'm02', 'm03', 'm04', 'm05', 'm06', 'm07', 'm08', 'm09', 'm10'], True)\n",
    "df_mice = df_mice0.pivot(index= 'mice_nr', columns = 'group', values = 'weight')[['before', 'after']]\n",
    "\n",
    "df_mice"
   ]
  },
  {
   "cell_type": "code",
   "execution_count": 80,
   "metadata": {},
   "outputs": [
    {
     "data": {
      "text/plain": [
       "WilcoxonResult(statistic=3.0, pvalue=0.009765625)"
      ]
     },
     "execution_count": 80,
     "metadata": {},
     "output_type": "execute_result"
    }
   ],
   "source": [
    "stats.wilcoxon(df_mice['after'], \n",
    "               df_mice['before'], \n",
    "               alternative='two-sided')"
   ]
  },
  {
   "cell_type": "code",
   "execution_count": 81,
   "metadata": {},
   "outputs": [
    {
     "ename": "NameError",
     "evalue": "name 'WilcoxonResult' is not defined",
     "output_type": "error",
     "traceback": [
      "\u001b[1;31m---------------------------------------------------------------------------\u001b[0m",
      "\u001b[1;31mNameError\u001b[0m                                 Traceback (most recent call last)",
      "Input \u001b[1;32mIn [81]\u001b[0m, in \u001b[0;36m<cell line: 1>\u001b[1;34m()\u001b[0m\n\u001b[1;32m----> 1\u001b[0m \u001b[43mWilcoxonResult\u001b[49m(statistic\u001b[38;5;241m=\u001b[39m\u001b[38;5;241m3.0\u001b[39m, \n\u001b[0;32m      2\u001b[0m                pvalue\u001b[38;5;241m=\u001b[39m\u001b[38;5;241m0.009765625\u001b[39m)\n",
      "\u001b[1;31mNameError\u001b[0m: name 'WilcoxonResult' is not defined"
     ]
    }
   ],
   "source": [
    "WilcoxonResult(statistic=3.0, pvalue=0.009765625)"
   ]
  },
  {
   "cell_type": "markdown",
   "metadata": {
    "id": "nkQ1cYVZECky"
   },
   "source": [
    "## 4.5 ANOVA tests (analysis of variance)\n",
    "\n",
    "Python stats module provides a one-way Anova test. The one-way ANOVA tests the null hypothesis that two or more groups have the same population mean (a generalisation of the t-test to more than two samples). The test is applied to samples from two or more groups, possibly with differing sizes. \n",
    "\n",
    "Please read the documentation about assumptions before using it: \n",
    "https://docs.scipy.org/doc/scipy/reference/generated/scipy.stats.f_oneway.html#scipy.stats.f_oneway"
   ]
  },
  {
   "cell_type": "code",
   "execution_count": null,
   "metadata": {
    "colab": {
     "base_uri": "https://localhost:8080/"
    },
    "id": "6vkkgh2kECky",
    "outputId": "5a1f4624-6b94-4906-836c-f4dc5c5ea510"
   },
   "outputs": [
    {
     "data": {
      "text/plain": [
       "0.07117940263843624"
      ]
     },
     "execution_count": 27,
     "metadata": {},
     "output_type": "execute_result"
    }
   ],
   "source": [
    "f, p_value = stats.f_oneway(df_setosa['swidth'][0:10],df_setosa['swidth'][10:20],df_setosa['swidth'][20:30])\n",
    "p_value"
   ]
  },
  {
   "cell_type": "code",
   "execution_count": null,
   "metadata": {
    "colab": {
     "base_uri": "https://localhost:8080/"
    },
    "id": "h0U1UVhkECky",
    "outputId": "bcbf80eb-c267-43d7-e264-19fa1fa7101b"
   },
   "outputs": [
    {
     "data": {
      "text/plain": [
       "8.916634067006418e-09"
      ]
     },
     "execution_count": 28,
     "metadata": {},
     "output_type": "execute_result"
    }
   ],
   "source": [
    "f, p_value = stats.f_oneway(df_setosa['swidth'],df_virginica['swidth'])\n",
    "p_value"
   ]
  },
  {
   "cell_type": "markdown",
   "metadata": {
    "id": "0lEd0Dp3ECkz"
   },
   "source": [
    "In last example on assumption is not fulfilled. "
   ]
  },
  {
   "cell_type": "markdown",
   "metadata": {
    "id": "qN96uM65ECkz"
   },
   "source": [
    "### Beyond one-way ANOVA\n",
    "\n",
    "There are examples and code for two-way, three-way and four-way etc ANOVA out there. We don't have the time to discuss them to practise them today. You can do this example if you like (maybe with Iris data):\n",
    "\n",
    "http://www.pybloggers.com/2016/03/three-ways-to-do-a-two-way-anova-with-python/"
   ]
  },
  {
   "cell_type": "code",
   "execution_count": null,
   "metadata": {
    "id": "guP2gDUPECkz"
   },
   "outputs": [],
   "source": [
    "from statsmodels.stats.anova import anova_lm"
   ]
  },
  {
   "cell_type": "markdown",
   "metadata": {
    "id": "Uh73Gb3RECkz"
   },
   "source": [
    "## 4.5 Final words "
   ]
  },
  {
   "cell_type": "markdown",
   "metadata": {
    "id": "JfEVav5_ECk0"
   },
   "source": [
    "If you are in doubt about your results because you think you have too little data or strangely distributed data you should/could:\n",
    "\n",
    "- Check by using another tool and see if there are changes in the results\n",
    "- Manipulate your (test) data (by adding/changing artifical datapoints etc) and study the effect on the result\n",
    "\n",
    "In the end you should enable people to interprete your results in a correct way and come to the same conclusions as you. So your results should be reproducible within the uncertainties you state."
   ]
  }
 ],
 "metadata": {
  "colab": {
   "collapsed_sections": [
    "SYuEAGFGqHWg",
    "rAZdi_FzECks",
    "yvWT7ZE0ECks",
    "oKEUj5LPECkw",
    "E8CakeRIECkx",
    "qN96uM65ECkz"
   ],
   "name": "12-CAS-D3-Hypothesis-Testing-2022.ipynb",
   "provenance": []
  },
  "hide_input": false,
  "kernelspec": {
   "display_name": "Python 3 (ipykernel)",
   "language": "python",
   "name": "python3"
  },
  "language_info": {
   "codemirror_mode": {
    "name": "ipython",
    "version": 3
   },
   "file_extension": ".py",
   "mimetype": "text/x-python",
   "name": "python",
   "nbconvert_exporter": "python",
   "pygments_lexer": "ipython3",
   "version": "3.9.12"
  },
  "toc": {
   "base_numbering": 1,
   "nav_menu": {},
   "number_sections": true,
   "sideBar": true,
   "skip_h1_title": false,
   "title_cell": "Table of Contents",
   "title_sidebar": "Contents",
   "toc_cell": false,
   "toc_position": {},
   "toc_section_display": true,
   "toc_window_display": true
  },
  "varInspector": {
   "cols": {
    "lenName": 16,
    "lenType": 16,
    "lenVar": 40
   },
   "kernels_config": {
    "python": {
     "delete_cmd_postfix": "",
     "delete_cmd_prefix": "del ",
     "library": "var_list.py",
     "varRefreshCmd": "print(var_dic_list())"
    },
    "r": {
     "delete_cmd_postfix": ") ",
     "delete_cmd_prefix": "rm(",
     "library": "var_list.r",
     "varRefreshCmd": "cat(var_dic_list()) "
    }
   },
   "oldHeight": 337.837,
   "position": {
    "height": "40px",
    "left": "4px",
    "right": "20px",
    "top": "180px",
    "width": "268px"
   },
   "types_to_exclude": [
    "module",
    "function",
    "builtin_function_or_method",
    "instance",
    "_Feature"
   ],
   "varInspector_section_display": "none",
   "window_display": false
  }
 },
 "nbformat": 4,
 "nbformat_minor": 4
}
